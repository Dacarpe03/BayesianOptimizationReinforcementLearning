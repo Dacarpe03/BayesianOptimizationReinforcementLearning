{
  "cells": [
    {
      "cell_type": "markdown",
      "metadata": {
        "id": "CR0o63R4Xa6F"
      },
      "source": [
        "# Step 1: Install dependencies"
      ]
    },
    {
      "cell_type": "code",
      "execution_count": null,
      "metadata": {
        "colab": {
          "base_uri": "https://localhost:8080/"
        },
        "id": "-GEDX7xi_IE7",
        "outputId": "69a57850-ac64-4dad-90d3-af5717bf7b22"
      },
      "outputs": [
        {
          "output_type": "stream",
          "name": "stdout",
          "text": [
            "Looking in indexes: https://pypi.org/simple, https://us-python.pkg.dev/colab-wheels/public/simple/\n",
            "Requirement already satisfied: setuptools==65.5.0 in /usr/local/lib/python3.9/dist-packages (65.5.0)\n"
          ]
        }
      ],
      "source": [
        "\n",
        "!pip3 install setuptools==65.5.0"
      ]
    },
    {
      "cell_type": "code",
      "execution_count": null,
      "metadata": {
        "colab": {
          "base_uri": "https://localhost:8080/"
        },
        "id": "nQXJ4h82Xt42",
        "outputId": "6cbe86cd-4e5d-4944-99fc-28c1b8f8a03e"
      },
      "outputs": [
        {
          "output_type": "stream",
          "name": "stdout",
          "text": [
            "Looking in indexes: https://pypi.org/simple, https://us-python.pkg.dev/colab-wheels/public/simple/\n",
            "Requirement already satisfied: gym[box2d] in /usr/local/lib/python3.9/dist-packages (0.21.0)\n",
            "Requirement already satisfied: numpy>=1.18.0 in /usr/local/lib/python3.9/dist-packages (from gym[box2d]) (1.22.4)\n",
            "Requirement already satisfied: cloudpickle>=1.2.0 in /usr/local/lib/python3.9/dist-packages (from gym[box2d]) (2.2.1)\n",
            "Requirement already satisfied: box2d-py==2.3.5 in /usr/local/lib/python3.9/dist-packages (from gym[box2d]) (2.3.5)\n",
            "Requirement already satisfied: pyglet>=1.4.0 in /usr/local/lib/python3.9/dist-packages (from gym[box2d]) (1.5.27)\n",
            "Looking in indexes: https://pypi.org/simple, https://us-python.pkg.dev/colab-wheels/public/simple/\n",
            "Requirement already satisfied: stable-baselines3[extra] in /usr/local/lib/python3.9/dist-packages (1.8.0)\n",
            "Requirement already satisfied: pyglet==1.5.27 in /usr/local/lib/python3.9/dist-packages (1.5.27)\n",
            "Requirement already satisfied: torch>=1.11 in /usr/local/lib/python3.9/dist-packages (from stable-baselines3[extra]) (2.0.0+cu118)\n",
            "Requirement already satisfied: matplotlib in /usr/local/lib/python3.9/dist-packages (from stable-baselines3[extra]) (3.7.1)\n",
            "Requirement already satisfied: numpy in /usr/local/lib/python3.9/dist-packages (from stable-baselines3[extra]) (1.22.4)\n",
            "Requirement already satisfied: pandas in /usr/local/lib/python3.9/dist-packages (from stable-baselines3[extra]) (1.5.3)\n",
            "Requirement already satisfied: importlib-metadata~=4.13 in /usr/local/lib/python3.9/dist-packages (from stable-baselines3[extra]) (4.13.0)\n",
            "Requirement already satisfied: cloudpickle in /usr/local/lib/python3.9/dist-packages (from stable-baselines3[extra]) (2.2.1)\n",
            "Requirement already satisfied: gym==0.21 in /usr/local/lib/python3.9/dist-packages (from stable-baselines3[extra]) (0.21.0)\n",
            "Requirement already satisfied: opencv-python in /usr/local/lib/python3.9/dist-packages (from stable-baselines3[extra]) (4.7.0.72)\n",
            "Requirement already satisfied: tensorboard>=2.9.1 in /usr/local/lib/python3.9/dist-packages (from stable-baselines3[extra]) (2.12.2)\n",
            "Requirement already satisfied: rich in /usr/local/lib/python3.9/dist-packages (from stable-baselines3[extra]) (13.3.4)\n",
            "Requirement already satisfied: tqdm in /usr/local/lib/python3.9/dist-packages (from stable-baselines3[extra]) (4.65.0)\n",
            "Requirement already satisfied: psutil in /usr/local/lib/python3.9/dist-packages (from stable-baselines3[extra]) (5.9.5)\n",
            "Requirement already satisfied: pillow in /usr/local/lib/python3.9/dist-packages (from stable-baselines3[extra]) (8.4.0)\n",
            "Requirement already satisfied: ale-py==0.7.4 in /usr/local/lib/python3.9/dist-packages (from stable-baselines3[extra]) (0.7.4)\n",
            "Requirement already satisfied: autorom[accept-rom-license]~=0.6.0 in /usr/local/lib/python3.9/dist-packages (from stable-baselines3[extra]) (0.6.1)\n",
            "Requirement already satisfied: importlib-resources in /usr/local/lib/python3.9/dist-packages (from ale-py==0.7.4->stable-baselines3[extra]) (5.12.0)\n",
            "Requirement already satisfied: click in /usr/local/lib/python3.9/dist-packages (from autorom[accept-rom-license]~=0.6.0->stable-baselines3[extra]) (8.1.3)\n",
            "Requirement already satisfied: requests in /usr/local/lib/python3.9/dist-packages (from autorom[accept-rom-license]~=0.6.0->stable-baselines3[extra]) (2.27.1)\n",
            "Requirement already satisfied: AutoROM.accept-rom-license in /usr/local/lib/python3.9/dist-packages (from autorom[accept-rom-license]~=0.6.0->stable-baselines3[extra]) (0.6.1)\n",
            "Requirement already satisfied: zipp>=0.5 in /usr/local/lib/python3.9/dist-packages (from importlib-metadata~=4.13->stable-baselines3[extra]) (3.15.0)\n",
            "Requirement already satisfied: tensorboard-data-server<0.8.0,>=0.7.0 in /usr/local/lib/python3.9/dist-packages (from tensorboard>=2.9.1->stable-baselines3[extra]) (0.7.0)\n",
            "Requirement already satisfied: protobuf>=3.19.6 in /usr/local/lib/python3.9/dist-packages (from tensorboard>=2.9.1->stable-baselines3[extra]) (3.20.3)\n",
            "Requirement already satisfied: absl-py>=0.4 in /usr/local/lib/python3.9/dist-packages (from tensorboard>=2.9.1->stable-baselines3[extra]) (1.4.0)\n",
            "Requirement already satisfied: grpcio>=1.48.2 in /usr/local/lib/python3.9/dist-packages (from tensorboard>=2.9.1->stable-baselines3[extra]) (1.53.0)\n",
            "Requirement already satisfied: wheel>=0.26 in /usr/local/lib/python3.9/dist-packages (from tensorboard>=2.9.1->stable-baselines3[extra]) (0.40.0)\n",
            "Requirement already satisfied: tensorboard-plugin-wit>=1.6.0 in /usr/local/lib/python3.9/dist-packages (from tensorboard>=2.9.1->stable-baselines3[extra]) (1.8.1)\n",
            "Requirement already satisfied: werkzeug>=1.0.1 in /usr/local/lib/python3.9/dist-packages (from tensorboard>=2.9.1->stable-baselines3[extra]) (2.2.3)\n",
            "Requirement already satisfied: setuptools>=41.0.0 in /usr/local/lib/python3.9/dist-packages (from tensorboard>=2.9.1->stable-baselines3[extra]) (65.5.0)\n",
            "Requirement already satisfied: google-auth<3,>=1.6.3 in /usr/local/lib/python3.9/dist-packages (from tensorboard>=2.9.1->stable-baselines3[extra]) (2.17.3)\n",
            "Requirement already satisfied: markdown>=2.6.8 in /usr/local/lib/python3.9/dist-packages (from tensorboard>=2.9.1->stable-baselines3[extra]) (3.4.3)\n",
            "Requirement already satisfied: google-auth-oauthlib<1.1,>=0.5 in /usr/local/lib/python3.9/dist-packages (from tensorboard>=2.9.1->stable-baselines3[extra]) (1.0.0)\n",
            "Requirement already satisfied: filelock in /usr/local/lib/python3.9/dist-packages (from torch>=1.11->stable-baselines3[extra]) (3.11.0)\n",
            "Requirement already satisfied: networkx in /usr/local/lib/python3.9/dist-packages (from torch>=1.11->stable-baselines3[extra]) (3.1)\n",
            "Requirement already satisfied: jinja2 in /usr/local/lib/python3.9/dist-packages (from torch>=1.11->stable-baselines3[extra]) (3.1.2)\n",
            "Requirement already satisfied: typing-extensions in /usr/local/lib/python3.9/dist-packages (from torch>=1.11->stable-baselines3[extra]) (4.5.0)\n",
            "Requirement already satisfied: triton==2.0.0 in /usr/local/lib/python3.9/dist-packages (from torch>=1.11->stable-baselines3[extra]) (2.0.0)\n",
            "Requirement already satisfied: sympy in /usr/local/lib/python3.9/dist-packages (from torch>=1.11->stable-baselines3[extra]) (1.11.1)\n",
            "Requirement already satisfied: cmake in /usr/local/lib/python3.9/dist-packages (from triton==2.0.0->torch>=1.11->stable-baselines3[extra]) (3.25.2)\n",
            "Requirement already satisfied: lit in /usr/local/lib/python3.9/dist-packages (from triton==2.0.0->torch>=1.11->stable-baselines3[extra]) (16.0.1)\n",
            "Requirement already satisfied: contourpy>=1.0.1 in /usr/local/lib/python3.9/dist-packages (from matplotlib->stable-baselines3[extra]) (1.0.7)\n",
            "Requirement already satisfied: pyparsing>=2.3.1 in /usr/local/lib/python3.9/dist-packages (from matplotlib->stable-baselines3[extra]) (3.0.9)\n",
            "Requirement already satisfied: kiwisolver>=1.0.1 in /usr/local/lib/python3.9/dist-packages (from matplotlib->stable-baselines3[extra]) (1.4.4)\n",
            "Requirement already satisfied: fonttools>=4.22.0 in /usr/local/lib/python3.9/dist-packages (from matplotlib->stable-baselines3[extra]) (4.39.3)\n",
            "Requirement already satisfied: packaging>=20.0 in /usr/local/lib/python3.9/dist-packages (from matplotlib->stable-baselines3[extra]) (23.1)\n",
            "Requirement already satisfied: python-dateutil>=2.7 in /usr/local/lib/python3.9/dist-packages (from matplotlib->stable-baselines3[extra]) (2.8.2)\n",
            "Requirement already satisfied: cycler>=0.10 in /usr/local/lib/python3.9/dist-packages (from matplotlib->stable-baselines3[extra]) (0.11.0)\n",
            "Requirement already satisfied: pytz>=2020.1 in /usr/local/lib/python3.9/dist-packages (from pandas->stable-baselines3[extra]) (2022.7.1)\n",
            "Requirement already satisfied: markdown-it-py<3.0.0,>=2.2.0 in /usr/local/lib/python3.9/dist-packages (from rich->stable-baselines3[extra]) (2.2.0)\n",
            "Requirement already satisfied: pygments<3.0.0,>=2.13.0 in /usr/local/lib/python3.9/dist-packages (from rich->stable-baselines3[extra]) (2.14.0)\n",
            "Requirement already satisfied: pyasn1-modules>=0.2.1 in /usr/local/lib/python3.9/dist-packages (from google-auth<3,>=1.6.3->tensorboard>=2.9.1->stable-baselines3[extra]) (0.2.8)\n",
            "Requirement already satisfied: six>=1.9.0 in /usr/local/lib/python3.9/dist-packages (from google-auth<3,>=1.6.3->tensorboard>=2.9.1->stable-baselines3[extra]) (1.16.0)\n",
            "Requirement already satisfied: cachetools<6.0,>=2.0.0 in /usr/local/lib/python3.9/dist-packages (from google-auth<3,>=1.6.3->tensorboard>=2.9.1->stable-baselines3[extra]) (5.3.0)\n",
            "Requirement already satisfied: rsa<5,>=3.1.4 in /usr/local/lib/python3.9/dist-packages (from google-auth<3,>=1.6.3->tensorboard>=2.9.1->stable-baselines3[extra]) (4.9)\n",
            "Requirement already satisfied: requests-oauthlib>=0.7.0 in /usr/local/lib/python3.9/dist-packages (from google-auth-oauthlib<1.1,>=0.5->tensorboard>=2.9.1->stable-baselines3[extra]) (1.3.1)\n",
            "Requirement already satisfied: mdurl~=0.1 in /usr/local/lib/python3.9/dist-packages (from markdown-it-py<3.0.0,>=2.2.0->rich->stable-baselines3[extra]) (0.1.2)\n",
            "Requirement already satisfied: certifi>=2017.4.17 in /usr/local/lib/python3.9/dist-packages (from requests->autorom[accept-rom-license]~=0.6.0->stable-baselines3[extra]) (2022.12.7)\n",
            "Requirement already satisfied: urllib3<1.27,>=1.21.1 in /usr/local/lib/python3.9/dist-packages (from requests->autorom[accept-rom-license]~=0.6.0->stable-baselines3[extra]) (1.26.15)\n",
            "Requirement already satisfied: idna<4,>=2.5 in /usr/local/lib/python3.9/dist-packages (from requests->autorom[accept-rom-license]~=0.6.0->stable-baselines3[extra]) (3.4)\n",
            "Requirement already satisfied: charset-normalizer~=2.0.0 in /usr/local/lib/python3.9/dist-packages (from requests->autorom[accept-rom-license]~=0.6.0->stable-baselines3[extra]) (2.0.12)\n",
            "Requirement already satisfied: MarkupSafe>=2.1.1 in /usr/local/lib/python3.9/dist-packages (from werkzeug>=1.0.1->tensorboard>=2.9.1->stable-baselines3[extra]) (2.1.2)\n",
            "Requirement already satisfied: mpmath>=0.19 in /usr/local/lib/python3.9/dist-packages (from sympy->torch>=1.11->stable-baselines3[extra]) (1.3.0)\n",
            "Requirement already satisfied: pyasn1<0.5.0,>=0.4.6 in /usr/local/lib/python3.9/dist-packages (from pyasn1-modules>=0.2.1->google-auth<3,>=1.6.3->tensorboard>=2.9.1->stable-baselines3[extra]) (0.4.8)\n",
            "Requirement already satisfied: oauthlib>=3.0.0 in /usr/local/lib/python3.9/dist-packages (from requests-oauthlib>=0.7.0->google-auth-oauthlib<1.1,>=0.5->tensorboard>=2.9.1->stable-baselines3[extra]) (3.2.2)\n",
            "Looking in indexes: https://pypi.org/simple, https://us-python.pkg.dev/colab-wheels/public/simple/\n",
            "Requirement already satisfied: botorch in /usr/local/lib/python3.9/dist-packages (0.8.3)\n",
            "Requirement already satisfied: gpytorch==1.9.1 in /usr/local/lib/python3.9/dist-packages (from botorch) (1.9.1)\n",
            "Requirement already satisfied: linear-operator==0.3.0 in /usr/local/lib/python3.9/dist-packages (from botorch) (0.3.0)\n",
            "Requirement already satisfied: pyro-ppl>=1.8.4 in /usr/local/lib/python3.9/dist-packages (from botorch) (1.8.4)\n",
            "Requirement already satisfied: multipledispatch in /usr/local/lib/python3.9/dist-packages (from botorch) (0.6.0)\n",
            "Requirement already satisfied: torch>=1.12 in /usr/local/lib/python3.9/dist-packages (from botorch) (2.0.0+cu118)\n",
            "Requirement already satisfied: scipy in /usr/local/lib/python3.9/dist-packages (from botorch) (1.10.1)\n",
            "Requirement already satisfied: scikit-learn in /usr/local/lib/python3.9/dist-packages (from gpytorch==1.9.1->botorch) (1.2.2)\n",
            "Requirement already satisfied: opt-einsum>=2.3.2 in /usr/local/lib/python3.9/dist-packages (from pyro-ppl>=1.8.4->botorch) (3.3.0)\n",
            "Requirement already satisfied: tqdm>=4.36 in /usr/local/lib/python3.9/dist-packages (from pyro-ppl>=1.8.4->botorch) (4.65.0)\n",
            "Requirement already satisfied: numpy>=1.7 in /usr/local/lib/python3.9/dist-packages (from pyro-ppl>=1.8.4->botorch) (1.22.4)\n",
            "Requirement already satisfied: pyro-api>=0.1.1 in /usr/local/lib/python3.9/dist-packages (from pyro-ppl>=1.8.4->botorch) (0.1.2)\n",
            "Requirement already satisfied: filelock in /usr/local/lib/python3.9/dist-packages (from torch>=1.12->botorch) (3.11.0)\n",
            "Requirement already satisfied: typing-extensions in /usr/local/lib/python3.9/dist-packages (from torch>=1.12->botorch) (4.5.0)\n",
            "Requirement already satisfied: triton==2.0.0 in /usr/local/lib/python3.9/dist-packages (from torch>=1.12->botorch) (2.0.0)\n",
            "Requirement already satisfied: jinja2 in /usr/local/lib/python3.9/dist-packages (from torch>=1.12->botorch) (3.1.2)\n",
            "Requirement already satisfied: sympy in /usr/local/lib/python3.9/dist-packages (from torch>=1.12->botorch) (1.11.1)\n",
            "Requirement already satisfied: networkx in /usr/local/lib/python3.9/dist-packages (from torch>=1.12->botorch) (3.1)\n",
            "Requirement already satisfied: cmake in /usr/local/lib/python3.9/dist-packages (from triton==2.0.0->torch>=1.12->botorch) (3.25.2)\n",
            "Requirement already satisfied: lit in /usr/local/lib/python3.9/dist-packages (from triton==2.0.0->torch>=1.12->botorch) (16.0.1)\n",
            "Requirement already satisfied: six in /usr/local/lib/python3.9/dist-packages (from multipledispatch->botorch) (1.16.0)\n",
            "Requirement already satisfied: MarkupSafe>=2.0 in /usr/local/lib/python3.9/dist-packages (from jinja2->torch>=1.12->botorch) (2.1.2)\n",
            "Requirement already satisfied: joblib>=1.1.1 in /usr/local/lib/python3.9/dist-packages (from scikit-learn->gpytorch==1.9.1->botorch) (1.2.0)\n",
            "Requirement already satisfied: threadpoolctl>=2.0.0 in /usr/local/lib/python3.9/dist-packages (from scikit-learn->gpytorch==1.9.1->botorch) (3.1.0)\n",
            "Requirement already satisfied: mpmath>=0.19 in /usr/local/lib/python3.9/dist-packages (from sympy->torch>=1.12->botorch) (1.3.0)\n"
          ]
        }
      ],
      "source": [
        "!pip install gym[box2d]\n",
        "!pip install stable-baselines3[extra] pyglet==1.5.27\n",
        "!pip install botorch"
      ]
    },
    {
      "cell_type": "markdown",
      "metadata": {
        "id": "Kpv4u1hZX2Vv"
      },
      "source": [
        "# Step 2: Import libraries"
      ]
    },
    {
      "cell_type": "markdown",
      "metadata": {
        "id": "riwFQZMNtU_4"
      },
      "source": [
        "Libraries used for the Bayesian Optimization Loop"
      ]
    },
    {
      "cell_type": "code",
      "execution_count": null,
      "metadata": {
        "id": "4mw25s5cYPuv"
      },
      "outputs": [],
      "source": [
        "import os\n",
        "import torch\n",
        "import numpy as np\n",
        "import plotly\n",
        "import plotly.graph_objects as go\n",
        "\n",
        "import gym\n",
        "\n",
        "import stable_baselines3\n",
        "from stable_baselines3 import PPO\n",
        "from stable_baselines3.common.evaluation import evaluate_policy\n",
        "from stable_baselines3.common.env_util import make_vec_env\n",
        "\n",
        "import botorch\n",
        "from botorch.utils.transforms import standardize, normalize, unnormalize"
      ]
    },
    {
      "cell_type": "markdown",
      "metadata": {
        "id": "kSAValUHtY_h"
      },
      "source": [
        "Libraries used to save checkpoints in GDrive"
      ]
    },
    {
      "cell_type": "code",
      "execution_count": null,
      "metadata": {
        "colab": {
          "base_uri": "https://localhost:8080/"
        },
        "id": "A8DoSb8utUAO",
        "outputId": "7fd49b1a-d92a-469a-d5f5-a6510f86eb5c"
      },
      "outputs": [
        {
          "output_type": "stream",
          "name": "stdout",
          "text": [
            "Drive already mounted at /content/gdrive; to attempt to forcibly remount, call drive.mount(\"/content/gdrive\", force_remount=True).\n"
          ]
        }
      ],
      "source": [
        "from google.colab import drive\n",
        "import pandas as pd\n",
        "\n",
        "drive.mount('/content/gdrive')"
      ]
    },
    {
      "cell_type": "markdown",
      "metadata": {
        "id": "8xdYx-gMYyeV"
      },
      "source": [
        "# Step 3: Define objetive function\n",
        "This will be the lower bound of the mean reward of a trained model "
      ]
    },
    {
      "cell_type": "code",
      "execution_count": null,
      "metadata": {
        "id": "XNRXK99lY_T9"
      },
      "outputs": [],
      "source": [
        "def get_hyp_values(hyperparams_tensor):\n",
        "  '''\n",
        "  Returns a tuple of values from a tensor containing a hyperparameter configuration\n",
        "\n",
        "          Parameters:\n",
        "                  hyperparams_tensor (torch.DoubleTensor): A tensor of size 1xn (1 row, n columns) with n being the number of hyperparameters to tune\n",
        "          \n",
        "          Returns:\n",
        "                  hyperparams_tuple (tuple): A tuple with the unpacked values of the hyperparams_tensor \n",
        "\n",
        "  '''\n",
        "  hyperparams_list = [hyperparams_tensor[0][i].item() for i in range(len(hyperparams_tensor[0]))]\n",
        "  hyperparams_tuple = tuple(hyperparams_list)\n",
        "  return tuple(hyperparams_list)\n",
        "\n",
        "\n",
        "def create_model(hyp,\n",
        "                 policy='MlpPolicy',\n",
        "                 env_name='LunarLander-v2'):\n",
        "  '''\n",
        "  Returns a PPO model given a policy, environment, and hyperparameters of PPO\n",
        "\n",
        "          Parameters:\n",
        "                  hyp (float): The value of the hyperparameter to train the model with\n",
        "                  policy (str): The NN to train with PPO in the environment. Default is 'MlpPolicy'\n",
        "                  env (stable_baselines3.common.vec_env.dummy_vec_env.DummyVecEnv): Specifies the gym environment to use for the training\n",
        "\n",
        "          Returns:\n",
        "                  model (stable_baselines3.ppo.ppo.PPO): The model to train\n",
        "  '''\n",
        "  # lr,  = get_hyp_values(hyperparams)\n",
        "  env = make_vec_env(env_name, n_envs=1)\n",
        "  model = PPO(policy = policy,\n",
        "              env = env,\n",
        "              learning_rate = hyp,\n",
        "              n_steps = 1024,\n",
        "              batch_size = 64,\n",
        "              n_epochs = 4,\n",
        "              gamma = 0.999,\n",
        "              gae_lambda = 0.98,\n",
        "              ent_coef = 0.01,\n",
        "              verbose=0)\n",
        "  \n",
        "  return model\n",
        "\n",
        "\n",
        "def train_model(model, timesteps=1000000):\n",
        "  '''\n",
        "  Trains a PPO model during a number of timesteps\n",
        "          \n",
        "          Parameters:\n",
        "                  model (stable_baselines3.ppo.ppo.PPO): The model to train\n",
        "                  timesteps (int): The number of timesteps used to train the model\n",
        "\n",
        "          Returns:\n",
        "                  None\n",
        "  '''\n",
        "  model.learn(total_timesteps=timesteps)\n",
        "  return\n",
        "\n",
        "\n",
        "def evaluate_model(model, \n",
        "                   rl_env_name='LunarLander-v2', \n",
        "                   n_eval_episodes=25):\n",
        "  '''\n",
        "  Evaluates the model for a number of episodes in a specified environment, this environment MUST be the same as the one the model has been trained in.\n",
        "\n",
        "          Parameters:\n",
        "                  model (stable_baselines3.ppo.ppo.PPO): The model to train\n",
        "                  rl_env_name (str): The name of the gym environment where the model has been trained\n",
        "                  n_eval_episodes (int): The number of episodes for which the model will be evaluated to obtain a mean and standard deviation\n",
        "\n",
        "          Returns:\n",
        "                  lower_mean_reward (float): A tensor of size 1x1 (1 row, 1 column) containing the mean_reward\n",
        "  '''\n",
        "  eval_env = gym.make(rl_env_name)\n",
        "  mean_reward, std_reward = evaluate_policy(model, \n",
        "                                            eval_env, \n",
        "                                            n_eval_episodes=n_eval_episodes, \n",
        "                                            deterministic=True)\n",
        "  \n",
        "  print(f\"mean_reward={mean_reward:.2f} +/- {std_reward}\")\n",
        "  lower_mean_reward = mean_reward - std_reward\n",
        "  return lower_mean_reward\n",
        "\n",
        "\n",
        "def target_function(hyperparams, \n",
        "                    timesteps=1000000,\n",
        "                    rl_env_name='LunarLander-v2'):\n",
        "  '''\n",
        "  Given a hyperparameter configuration, evaluates their performance\n",
        "          Parameters:\n",
        "                  hyperparams (float): The value of the learning_rate to train the model with\n",
        "                  timesteps (int): timesteps (int): The number of timesteps used to train the model\n",
        "                  rl_env_name (str): The name of the gym environment where the model has been trained\n",
        "\n",
        "          Returns:\n",
        "                  lower_mean_reward (float): A tensor of size 1x1 (1 row, 1 column) containing the mean_reward\n",
        "  '''\n",
        "  model = create_model(hyperparams, env_name=rl_env_name)\n",
        "  \n",
        "  train_model(model, \n",
        "              timesteps)\n",
        "  \n",
        "  lower_mean_reward = evaluate_model(model, \n",
        "                                     rl_env_name)\n",
        "  \n",
        "  return lower_mean_reward\n"
      ]
    },
    {
      "cell_type": "markdown",
      "metadata": {
        "id": "zjdeNdB_jJPj"
      },
      "source": [
        "# Step 4: Define hyperparameters to tune\n",
        "First define the bounds"
      ]
    },
    {
      "cell_type": "code",
      "execution_count": null,
      "metadata": {
        "id": "WXwDQp5oilS4"
      },
      "outputs": [],
      "source": [
        "lr = 0.05\n",
        "# Define here the list of parameters to tune\n",
        "hyperparams_list = [lr]\n",
        "# Define the lower bounds of the parameters\n",
        "lower_bounds = [0.0001]\n",
        "# Define the upper bounds of the parameters\n",
        "upper_bounds = [0.1]"
      ]
    },
    {
      "cell_type": "markdown",
      "metadata": {
        "id": "9ILw3cqAjkbg"
      },
      "source": [
        "Then convert lists to tensors"
      ]
    },
    {
      "cell_type": "code",
      "execution_count": null,
      "metadata": {
        "id": "PnU1DMG8jnuc"
      },
      "outputs": [],
      "source": [
        "# Create tensors with the hyperparameters configurations and bounds for BOTorch to use\n",
        "hyperparams_tensor = torch.DoubleTensor([hyperparams_list])\n",
        "bounds_tensor = torch.DoubleTensor([lower_bounds, upper_bounds])"
      ]
    },
    {
      "cell_type": "markdown",
      "metadata": {
        "id": "igatCqADkIjz"
      },
      "source": [
        "# Step 5: Define functions needed for the Bayesian Optimization Loop"
      ]
    },
    {
      "cell_type": "code",
      "execution_count": null,
      "metadata": {
        "id": "VYL5gMk_kK7m"
      },
      "outputs": [],
      "source": [
        "def generate_initial_data(upper_bound, \n",
        "                          lower_bound, \n",
        "                          n=3):\n",
        "  '''\n",
        "  Gets n values of the hyperparameter's bounded space and evaluates them\n",
        "          Parameters:\n",
        "                upper_bound (float): The upper bound of the hyperparameter value\n",
        "                lower_bound (float): The lower bound of the hyperparameter value\n",
        "                n (int): The number of initial points to get. Default is 3\n",
        "          \n",
        "          Returns:\n",
        "                train_x (torch.DoubleTensor): A tensor of size (n, 1) (n rows and 1 column) with the initial points\n",
        "                exact_obj (torch.DoubleTensor): A tensor of size (n, 1) (n rows and 1 column) containing the evaluation of the model with the sampled hyperparameters values\n",
        "                best_observed_vale: The best evaluation of the hyperparameters\n",
        "  '''\n",
        "  # Create our initial hyperparameter values\n",
        "  train_x = torch.rand(n, 1, dtype=torch.double) * (upper_bound - lower_bound) + lower_bound\n",
        "\n",
        "  # Evaluate them and store them in a torch.Tensor\n",
        "  exact_obj = torch.tensor([[target_function(float(hyp))] for hyp in train_x])\n",
        "\n",
        "  # Get the best observed value\n",
        "  best_observed_value = exact_obj.max().item()\n",
        "  \n",
        "  return train_x, exact_obj, best_observed_value"
      ]
    },
    {
      "cell_type": "code",
      "execution_count": null,
      "metadata": {
        "id": "1MUKzEZkmAxw"
      },
      "outputs": [],
      "source": [
        "from botorch.acquisition.analytic import ExpectedImprovement\n",
        "from botorch.optim import optimize_acqf\n",
        "from botorch.utils.transforms import standardize, normalize, unnormalize\n",
        "from botorch.models import SingleTaskGP\n",
        "from gpytorch.mlls.exact_marginal_log_likelihood import ExactMarginalLogLikelihood\n",
        "from botorch import fit_gpytorch_model\n",
        "\n",
        "def compute_acquisition_function(single_model, \n",
        "                                 best_init_y,\n",
        "                                 l_bound=-2.,\n",
        "                                 h_bound=10.,\n",
        "                                 resolution=1000):\n",
        "  \n",
        "  '''\n",
        "  Evaluates the acquisition function in the discretized space of the bounded space\n",
        "          Parameters:\n",
        "                  single_model (botorch.models.gp_regression): A Gaussian Process regression model\n",
        "                  best_init_y (float): The best lower_bound_reward obtained until the moment\n",
        "                  l_bound (float): The lower bound of the hyperparameter value\n",
        "                  h_bound (float): The upper bound of the hyperparameter value\n",
        "                  resolution (int): The number of discretized points of the hyperparameter value bounded space\n",
        "\n",
        "          Returns:\n",
        "                  result_tensor (torch.Tensor): A tensor of shape 1xresolution (1 row, {resolution} colums) containing the evaluations of the acquisition function\n",
        "  '''\n",
        "  # Discretize the bounded hyperparameter value space\n",
        "  linspace = torch.linspace(l_bound, \n",
        "                            h_bound,\n",
        "                            steps=resolution)\n",
        "  x_test = torch.tensor([linspace[0]]).unsqueeze(-1)\n",
        "\n",
        "  # Compute our acquistion function\n",
        "  EI = ExpectedImprovement(model=single_model, \n",
        "                           best_f=best_init_y, \n",
        "                           maximize=True)\n",
        "  result = []\n",
        "\n",
        "  # Evaluate the acquisition function in the discretized space\n",
        "  for x in linspace:\n",
        "    x_test = torch.tensor([x]).unsqueeze(-1)\n",
        "    result.append(EI(x_test))\n",
        "  \n",
        "  # Convert results list in a tensor\n",
        "  result_tensor = torch.tensor(result)\n",
        "  return result_tensor\n",
        "\n",
        "\n",
        "def print_acquisition_function(acq_fun, \n",
        "                               iteration,\n",
        "                               l_bound=-2.,\n",
        "                               h_bound=10.,\n",
        "                               resolution=1000, \n",
        "                               suggested=None):\n",
        "  '''\n",
        "  Plots the acquistion function given a series of evaluations previously computed\n",
        "          Parameters:\n",
        "                  acq_fun (torch.Tensor): A tensor of shape 1xresolution with the evaluations of the acquisition function\n",
        "                  iteration (int): The iteration number of the Gaussian Process\n",
        "                  l_bound (float): The lower bound of the hyperparameter value\n",
        "                  h_bound (float): The upper bound of the hyperparameter value\n",
        "                  resolution (int): The number of discretized points of the hyperparameter value bounded space\n",
        "                  suggested (float): The suggested value of the hyperparameter\n",
        "\n",
        "          Returns:\n",
        "                  None\n",
        "  '''\n",
        "\n",
        "  # Discretize the hyperparameter value space\n",
        "  x = torch.linspace(l_bound, h_bound, steps=resolution).detach().numpy()\n",
        "  x_new = x.reshape((resolution,-1))\n",
        "  z = acq_fun\n",
        "\n",
        "  # Get the value that maximizes the acquisition value\n",
        "  max_acq_fun = x[((acq_fun == acq_fun.max().item()).nonzero(as_tuple=True)[0])]\n",
        "\n",
        "  # Plot our data\n",
        "  data = go.Scatter(x=x, y=z, line_color=\"yellow\")\n",
        "\n",
        "  # Axis\n",
        "  fig = go.Figure(data=data)\n",
        "  fig.update_layout(title=\"Expected Improvement acquisition function. Iteration \" + str(iteration), xaxis_title=\"input\", yaxis_title=\"output\")\n",
        "\n",
        "  # If we have suggested a point, draw a red vertical line on it, otherwise draw a red vertical line on the value that maximizes the acq function\n",
        "  if(suggested==None):\n",
        "    fig.add_vline(x=max_acq_fun, line_width=3, line_color=\"red\")\n",
        "  else:\n",
        "    fig.add_vline(x=float(suggested[0][0]), line_width=3, line_color=\"red\")\n",
        "  fig.show()\n",
        "\n",
        "\n",
        "def compute_predictive_distribution(single_model,\n",
        "                                    best_init_y,\n",
        "                                    l_bound=-2.,\n",
        "                                    h_bound=10., \n",
        "                                    resolution=1000):\n",
        "  '''\n",
        "  Computes the predictive distribution of the functions given a Gaussian Process Regresion model\n",
        "          Parameters:\n",
        "                  single_model (botorch.models.gp_regression): A Gaussian Process regression model\n",
        "                  best_init_y (float): The best lower_bound_reward obtained until the moment\n",
        "                  l_bound (float): The lower bound of the hyperparameter value\n",
        "                  h_bound (float): The upper bound of the hyperparameter value\n",
        "                  resolution (int): The number of discretized points of the hyperparameter value bounded space\n",
        "\n",
        "          Returns:\n",
        "                  means_tensor (torch.Tensor): A tensor of shape 1xresolution (1 row, {resolution} colums) containing the means of the discretized points\n",
        "                  variances_tensor (torch.Tensor): A tensor of shape 1xresolution (1 row, {resolution} colums) containing the variances of the discretized points\n",
        "  '''\n",
        "  # Discretize the hyperparameter value bounded space\n",
        "  linspace = torch.linspace(l_bound, h_bound, steps=resolution)\n",
        "  x_test = torch.tensor([linspace[0]]).unsqueeze(-1)\n",
        "\n",
        "  # Initialize our lists, result for the means\n",
        "  result = []\n",
        "  variances = []\n",
        "\n",
        "  # Evaluate means and variances given the GP model\n",
        "  for x in linspace:\n",
        "    x_test = torch.tensor([x]).unsqueeze(-1)\n",
        "    result.append(single_model.posterior(x_test).mean)\n",
        "    variances.append(single_model.posterior(x_test).variance)\n",
        "  \n",
        "  # Convert results into tensors\n",
        "  means_tensor = torch.tensor(result)\n",
        "  variances_tensor = torch.tensor(variances)\n",
        "\n",
        "  return torch.tensor(result), torch.tensor(variances)\n",
        "\n",
        "\n",
        "def print_predictive_mean(predictive_mean, \n",
        "                          predictive_variance,\n",
        "                          iteration, \n",
        "                          l_bound=-2.,\n",
        "                          h_bound=10.,\n",
        "                          resolution=1000,\n",
        "                          suggested=None,\n",
        "                          old_obs=[],\n",
        "                          old_values=[]):\n",
        "  '''\n",
        "  Plots the function distribution obtained by the Gaussian Process\n",
        "          Parameters:\n",
        "                  predictive_mean (torch.Tensor): A tensor of shape 1xresolution (1 row, {resolution} colums) containing the means of the discretized points\n",
        "                  predictive_variance (torch.Tensor): A tensor of shape 1xresolution (1 row, {resolution} colums) containing the variances of the discretized points\n",
        "                  iteration (int): The iteration number of the Gaussian Process\n",
        "                  l_bound (float): The lower bound of the hyperparameter value\n",
        "                  h_bound (float): The upper bound of the hyperparameter value\n",
        "                  resolution (int): The number of discretized points of the hyperparameter value bounded space\n",
        "                  suggested (float): The suggested value of the hyperparameter\n",
        "                  old_obs (list): A list with previous candidates selected by the optimization of the acquisition function\n",
        "                  old_values (list): A list with previous lower bound reward of the hyperparameter candidates selected previously by the optimization of the acquisition function\n",
        "\n",
        "          Returns:\n",
        "                  None\n",
        "  '''\n",
        "\n",
        "  # Discretize the space\n",
        "  x = torch.linspace(l_bound, h_bound, steps=resolution).detach().numpy()\n",
        "  x_new = x.reshape((resolution,-1))\n",
        "  z = predictive_mean\n",
        "\n",
        "  # Get the value that maximizes the predictive mean\n",
        "  max_predictive_mean = x[((predictive_mean == predictive_mean.max().item()).nonzero(as_tuple=True)[0])]\n",
        "\n",
        "  # Create figure\n",
        "  fig = go.Figure()\n",
        "\n",
        "  # Plot upper bound of the expected reward (predictive mean + predictive variance)\n",
        "  fig.add_trace(go.Scatter(x=x, \n",
        "                           y= predictive_mean + np.sqrt(predictive_variance),\n",
        "                           mode='lines',\n",
        "                           line=dict(color=\"#19D3F3\",width =0.1),\n",
        "                           name='upper bound'))\n",
        "  \n",
        "  # Plot predictive mean of each point's expected reward\n",
        "  fig.add_trace(go.Scatter(x=x, \n",
        "                           y= predictive_mean,\n",
        "                           mode='lines',\n",
        "                           line=dict(color=\"blue\"),\n",
        "                           fill='tonexty',\n",
        "                           name='predictive mean'))\n",
        "  \n",
        "  # Plot lower bound of the expected reward (predictive mean - predictive variance)\n",
        "  fig.add_trace(go.Scatter(x=x, y= predictive_mean - np.sqrt(predictive_variance),\n",
        "                         mode='lines',\n",
        "                         line=dict(color=\"blue\", width =0.1),\n",
        "                         fill='tonexty',\n",
        "                         name='lower bound'))\n",
        "  \n",
        "  \n",
        "  # Axis\n",
        "  fig.update_layout(title=\"GP Predictive distribution. Iteration \" + str(iteration), xaxis_title=\"Learning rate\", yaxis_title=\"Expected reward\", showlegend=False)\n",
        "\n",
        "  # Add a vertical line in the point that maximizes the expected reward or in the suggested point if provided in the parameters\n",
        "  if(suggested==None):\n",
        "    fig.add_vline(x=max_predictive_mean, line_width=3, line_color=\"red\")\n",
        "  else:\n",
        "    fig.add_vline(x=float(suggested[0][0]), line_width=3, line_color=\"red\")  \n",
        "\n",
        "  # Plot old values\n",
        "  if(len(old_obs)>0):\n",
        "    fig.add_trace(go.Scatter(x=old_obs, y=old_values, mode = 'markers', marker_color=\"black\", marker_size=10))\n",
        "\n",
        "  fig.show()\n",
        "\n",
        "\n",
        "def visualize_functions(single_model,\n",
        "                        best_init_y,\n",
        "                        best_candidate,\n",
        "                        candidate_acq_fun,\n",
        "                        iteration,\n",
        "                        previous_observations,\n",
        "                        previous_values,\n",
        "                        bounds,\n",
        "                        best_candidate_normalized):\n",
        "  '''\n",
        "  Function that visualizes the acquisition function and gaussian process\n",
        "          Parameters:\n",
        "                  single_model (botorch.models.gp_regression): A Gaussian Process regression model\n",
        "                  best_init_y (float): The best lower_bound_reward obtained until the moment\n",
        "                  best_candidate (float): The normalized best candidate until this iteration of the optimization process \n",
        "                  candidate_acq_fun (float): The selected unnormalized candidate in this iteration of the optimization process\n",
        "                  iteration (int): The iteration number of the optimization process\n",
        "                  previous_observations (list): A list with previous candidates selected by the optimization of the acquisition function\n",
        "                  previous_values (list): A list with previous lower bound reward of the hyperparameter candidates selected previously by the optimization of the acquisition function\n",
        "                  bounds (torch.Tensor): Normalized bounds of the hyperparameter values in the form of tensors of shape 2x1 (2 rows, 1 column), first row containing lower bound, second containing upper bound\n",
        "\n",
        "          Returns:\n",
        "                  None\n",
        "\n",
        "  '''\n",
        "\n",
        "  # Compute the mean and variance of the function distribution given by the gaussian process (our single model)\n",
        "  predictive_mean, predictive_variance = compute_predictive_distribution(single_model, \n",
        "                                                                         best_init_y,\n",
        "                                                                         l_bound=0,\n",
        "                                                                         h_bound=1)\n",
        "  # Plot the distribution\n",
        "  print_predictive_mean(predictive_mean, \n",
        "                        predictive_variance, \n",
        "                        iteration,\n",
        "                        suggested=candidate_acq_fun, \n",
        "                        old_obs=previous_observations,\n",
        "                        old_values=previous_values,\n",
        "                        l_bound=bounds[0][0],\n",
        "                        h_bound=bounds[1][0])\n",
        "  \n",
        "  # Compute the acquisition function \n",
        "  acq_fun = compute_acquisition_function(single_model, \n",
        "                                         best_init_y, \n",
        "                                         l_bound=0,\n",
        "                                         h_bound=1)\n",
        "\n",
        "  # Plot the acquisition function\n",
        "  print_acquisition_function(acq_fun,\n",
        "                             iteration,\n",
        "                             suggested=candidate_acq_fun, \n",
        "                             l_bound=bounds[0][0],\n",
        "                             h_bound=bounds[1][0])\n",
        "  \n",
        "\n",
        "def get_next_points_and_visualize_norm(init_x,\n",
        "                                       init_y, \n",
        "                                       best_init_y, \n",
        "                                       normalized_bounds, \n",
        "                                       iteration, \n",
        "                                       previous_observations,\n",
        "                                       previous_values,\n",
        "                                       bounds,\n",
        "                                       n_points=1,\n",
        "                                       visualize=False):\n",
        "  '''\n",
        "  Function that computes the next point to add to the Gaussian Process and visualizes the acquisition function and function distribution\n",
        "          Parameters:\n",
        "                  init_x (torch.Tensor): A tensor of shape {iteration}x1 containing the previous hyperparameters\n",
        "                  init_y (torch.Tensor): A tensor of shape {iteration}x1 containing the previous rewards of the models trained with x_init hyperparameters values\n",
        "                  best_init_y (float): Best reward obtained until the moment\n",
        "                  normalized_bounds (torch.Tensor): Normalized bounds of the hyperparameter values in the form of tensors of shape 2x1 (2 rows, 1 column), first row containing lower bound, second containing upper bound\n",
        "                  iteration (int): The iteration number of the Bayesian Optimization process\n",
        "                  previous_observations (list): A list with previous hyperparameter values\n",
        "                  previous_values (list): A list with previous rewards obtained\n",
        "                  bounds (torch.Tensor): Actual bounds of the hyperparameter values in the form of tensors of shape 2x1 (2 rows, 1 column), first row containing lower bound, second containing upper bound\n",
        "                  n_points (int): Number of candidates to obtain for the next iteration. Default is 1\n",
        "                  visualize (bool): If True, then visualize the GP. Default is True\n",
        "\n",
        "          Returns:\n",
        "                  candidates (torch.Tensor): A tensor of shape 1x1 containing the value of the hyperparameter that optimizes the acquisition function\n",
        "  '''\n",
        "  # Create our model with the points\n",
        "  single_model = SingleTaskGP(init_x, init_y)\n",
        "\n",
        "  mll = ExactMarginalLogLikelihood(single_model.likelihood, single_model)\n",
        "  fit_gpytorch_model(mll)\n",
        "\n",
        "  # Instantiaet the acquisition function given our model\n",
        "  EI = ExpectedImprovement(model=single_model, best_f=best_init_y, maximize=True)\n",
        "  \n",
        "  # Optimize the acquisition function\n",
        "  candidates, _ = optimize_acqf(acq_function=EI, \n",
        "                                bounds=normalized_bounds, \n",
        "                                q=n_points,\n",
        "                                num_restarts=200,\n",
        "                                raw_samples=512, \n",
        "                                options={\"batch_limit\": 5, \"maxiter\": 200})\n",
        "  \n",
        "  # Get the best candidate unnormalized\n",
        "  best_candidate = unnormalize(init_x[((init_y == best_init_y).nonzero(as_tuple=True)[0])][0][0], bounds=normalized_bounds)\n",
        "  # Get our best candidate normalized for the GP to use\n",
        "  best_candidate_normalized = init_x[((init_y == best_init_y).nonzero(as_tuple=True)[0])][0][0]\n",
        "\n",
        "  # Visualize acquisition functions and GP regression\n",
        "  if visualize:\n",
        "    visualize_functions(single_model, \n",
        "                        best_init_y,\n",
        "                        best_candidate,\n",
        "                        unnormalize(candidates, bounds=bounds),\n",
        "                        iteration, previous_observations,\n",
        "                        previous_values, \n",
        "                        bounds, \n",
        "                        best_candidate_normalized)\n",
        "\n",
        "  return candidates"
      ]
    },
    {
      "cell_type": "markdown",
      "metadata": {
        "id": "E038wSN_MFoQ"
      },
      "source": [
        "# Step 6: Set experiments' configuration"
      ]
    },
    {
      "cell_type": "markdown",
      "metadata": {
        "id": "DWEEF07XuQPj"
      },
      "source": [
        "First let us define functions to save and load checkpoints"
      ]
    },
    {
      "cell_type": "code",
      "execution_count": null,
      "metadata": {
        "id": "8sde3AjauPiS"
      },
      "outputs": [],
      "source": [
        "def create_experiment_df():\n",
        "  '''\n",
        "  Creates an empty dataframe to save checkpoints\n",
        "          Parameters:\n",
        "\n",
        "          Returns:\n",
        "                  experiment_df (pandas.DataFrame): An empty Dataframe with columns specified below that will be used to save the experiment history\n",
        "  '''\n",
        "  columns = [\"method\",\n",
        "             \"experiment\",\n",
        "             \"iteration\",\n",
        "             \"learning_rate\",\n",
        "             \"reward_lower_bound\",\n",
        "             \"best_learning_rate\",\n",
        "             \"best_reward_lower_bound\"\n",
        "             ]\n",
        "\n",
        "  experiment_df = pd.DataFrame(columns=columns)\n",
        "  return experiment_df\n",
        "\n",
        "\n",
        "def get_filepath(experiment_name):\n",
        "  '''\n",
        "  Returns the path of the csv of the experiment specified.\n",
        "          Parameters:\n",
        "                  experiment_name (string): The name of the experiment\n",
        "\n",
        "          Returns:\n",
        "                  filepath (string): The path to the .csv file that has the data of the experiment\n",
        "  '''\n",
        "  filepath = f\"/content/gdrive/My Drive/{experiment_name}.csv\"\n",
        "  return filepath\n",
        "\n",
        "\n",
        "def update_experiment_history(method, \n",
        "                              experiment_number, \n",
        "                              iteration,\n",
        "                              hyp,\n",
        "                              reward_lower_bound,\n",
        "                              best_hyp,\n",
        "                              best_reward_lower_bound,\n",
        "                              experiment_df,\n",
        "                              experiment_name):\n",
        "  '''\n",
        "  Updates the experiment dataframe and saves it in GDrive\n",
        "          Parameters:\n",
        "                  method (int): 0 if Bayesian Optimization, 1 if Random Search\n",
        "                  experiment_number (int): The id of the experiment\n",
        "                  iteration (int): The current iteration of the experiment\n",
        "                  hype (float): The hyperparameter value selected for this iteration\n",
        "                  reward_lower_bound (float): The reward's lower bound obtained by the model trained this iteration\n",
        "                  best_hyp (float): The hyperparameter value that has induced the best reward lower bound\n",
        "                  best_reward_lower_bound (float): The best reward lower bound obtained until this iteration\n",
        "                  experiment_df (pandas.DataFrame): The dataframe containing the experiments history\n",
        "                  experiment_name (string): The name of the experiment\n",
        "\n",
        "          Returns:\n",
        "                  concatenated_df (pandas.DataFrame): The updated experiments history dataframe\n",
        "  '''\n",
        "  # Define the columns of the dataframe\n",
        "  columns = [\"method\",\n",
        "             \"experiment\",\n",
        "             \"iteration\",\n",
        "             \"learning_rate\",\n",
        "             \"reward_lower_bound\",\n",
        "             \"best_learning_rate\",\n",
        "             \"best_reward_lower_bound\"]\n",
        "\n",
        "  # Set the values of the columns given by the iteration configuration and result\n",
        "  iteration_results = [[method,\n",
        "                        experiment_number,\n",
        "                        iteration,\n",
        "                        hyp,\n",
        "                        reward_lower_bound,\n",
        "                        best_hyp,\n",
        "                        best_reward_lower_bound]]\n",
        "\n",
        "  # Create a one row dataframe for this experiment\n",
        "  new_iteration_df = pd.DataFrame(iteration_results, columns=columns)\n",
        "\n",
        "  # Concatenate the experiments history with this experiment's results\n",
        "  concatenated_df = pd.concat([experiment_df, new_iteration_df], ignore_index=True)\n",
        "\n",
        "  # Save the updated history in google drive\n",
        "  save_checkpoint(concatenated_df,\n",
        "                  experiment_name)\n",
        "  \n",
        "  # Return the concatenated dataframe representing the updated experiment history\n",
        "  return concatenated_df\n",
        "\n",
        "\n",
        "def save_checkpoint(experiment_df,\n",
        "                    experiment_name):\n",
        "  '''\n",
        "  Saves the experiments history dataframe in google drive\n",
        "          Parameters:\n",
        "                  experiment_df (pandas.DataFrame): The dataframe containing the experiments history\n",
        "                  experiment_name (string): The name of the experiment\n",
        "          \n",
        "          Returns:\n",
        "                  None\n",
        "  '''\n",
        "\n",
        "  filepath = get_filepath(experiment_name)\n",
        "  experiment_df.to_csv(filepath, index=False)\n",
        "\n",
        "\n",
        "def load_checkpoint(experiment_name,\n",
        "                    experiment_results,\n",
        "                    experiment_configurations):\n",
        "  '''\n",
        "  Loads a checkpoint of an experiment given its name\n",
        "\n",
        "          Parameters:\n",
        "                  experiment_name (string): The name of the experiment\n",
        "                  experiment_results (numpy.array): A numpy array of three dimensions (method, iteration, best_result)\n",
        "                  expeirment_configuration (numpy.array): A numpy array of three dimensions (method, iteration, best_learning rate)\n",
        "\n",
        "          Returns:\n",
        "                  experiment_df (pandas.DataFrame): A dataframe with the experiment history\n",
        "  '''\n",
        "  # First we retrieve the dataframe from GDrive\n",
        "  filepath = get_filepath(experiment_name)\n",
        "  experiment_df = pd.read_csv(filepath)\n",
        "\n",
        "  # Now we iterate through the rows of the dataframe to update the experiment history numpy arrays that we will use later to compare the methods and plot results\n",
        "  for index, row in experiment_df.iterrows():\n",
        "      # Unpack the columns\n",
        "      method, exp, iter, hyp, rlb, best_hyp, best_rlb = row.values\n",
        "      # Add them to the experiments arrays\n",
        "      experiment_results[int(method)][int(exp)][int(iter)] = best_rlb\n",
        "      experiment_configurations[int(method)][int(exp)][int(iter)] = best_hyp\n",
        "\n",
        "  method, exp, iter, hyp, rlb, best_hyp, best_rlb = experiment_df.iloc[-1]\n",
        "  print(experiment_df.iloc[-1])\n",
        "  if method == 0:\n",
        "    bo_done = False\n",
        "    last_bo_experiment = int(exp)\n",
        "    last_rs_experiment = 0\n",
        "\n",
        "    # Plus one because we want to start in the next one\n",
        "    last_bo_iteration = int(iter)+1\n",
        "    last_rs_iteration = 1\n",
        "\n",
        "  else:\n",
        "    bo_done = True\n",
        "    last_bo_experiment = experiment_configurations.shape[1]-1\n",
        "    last_rs_experiment = int(exp)\n",
        "\n",
        "    # Plus one because we want to start in the next one\n",
        "    last_bo_iteration = experiment_configurations.shape[2]-1\n",
        "    last_rs_iteration = int(iter)+1\n",
        "\n",
        "  # Now lets get the initial data\n",
        "  bo_experiment_df = experiment_df[(experiment_df[\"method\"]==0) & (experiment_df[\"experiment\"]==int(exp))]\n",
        "  init_x = torch.DoubleTensor([[float(lr)] for lr in bo_experiment_df.learning_rate.values])\n",
        "  init_y = torch.DoubleTensor([[float(reward)] for reward in bo_experiment_df.reward_lower_bound.values])\n",
        "  best_init_y = init_y.max().item()\n",
        "\n",
        "  rs_experiment_df = experiment_df[experiment_df[\"method\"]==0]\n",
        "  if rs_experiment_df.empty:\n",
        "      best_rs_hyp = 0\n",
        "      best_rs_r = 0\n",
        "  else:\n",
        "      best_rs_hyp = rs_experiment_df.iloc[-1][\"best_learning_rate\"]\n",
        "      best_rs_r = rs_experiment_df.iloc[-1][\"best_reward_lower_bound\"]\n",
        "             \n",
        "  return experiment_df, last_bo_experiment, last_rs_experiment, last_bo_iteration, last_rs_iteration, init_x, init_y, best_init_y, best_rs_hyp, best_rs_r, bo_done"
      ]
    },
    {
      "cell_type": "markdown",
      "metadata": {
        "id": "0AChh4uxu6lk"
      },
      "source": [
        "Now let's set the configuration for the experiments"
      ]
    },
    {
      "cell_type": "code",
      "execution_count": null,
      "metadata": {
        "colab": {
          "base_uri": "https://localhost:8080/"
        },
        "id": "FF5-qYTvN2zZ",
        "outputId": "c74b90d8-8b5f-4421-e9aa-4f5369c7a43f"
      },
      "outputs": [
        {
          "output_type": "stream",
          "name": "stdout",
          "text": [
            "method                        1.000000\n",
            "experiment                   14.000000\n",
            "iteration                     9.000000\n",
            "learning_rate                 0.055730\n",
            "reward_lower_bound        -1931.857025\n",
            "best_learning_rate            0.000621\n",
            "best_reward_lower_bound     149.168942\n",
            "Name: 763, dtype: float64\n"
          ]
        }
      ],
      "source": [
        "import numpy as np\n",
        "# The name of the file (WITHOUT EXTENSION) where the history of experiments will be saved\n",
        "experiment_name = \"lunar_lander_learning_rate\"\n",
        "# If true, this will look for the experiment history .csv in google drive and continue from there\n",
        "continue_from_checkpoint = True\n",
        "\n",
        "# Number of experiments per method\n",
        "n_experiments = 15\n",
        "\n",
        "# Number of iterations per experiment after the first random point being evaluated\n",
        "n_iterations = 25\n",
        "\n",
        "# Number of methods\n",
        "n_methods = 2\n",
        "\n",
        "# Index of Bayesian Optimization method\n",
        "bo_method = 0\n",
        "\n",
        "# Index of Random Search method\n",
        "rs_method = 1\n",
        "\n",
        "# Arrays containing the results and configurations of experiments\n",
        "experiment_results = np.zeros((n_methods, n_experiments, n_iterations+1))\n",
        "experiment_configurations = np.zeros((n_methods, n_experiments, n_iterations+1))\n",
        "\n",
        "# Now load checkpoint if necessary\n",
        "if continue_from_checkpoint:\n",
        "  experiment_df, last_bo_experiment, last_rs_experiment, last_bo_iteration, last_rs_iteration, init_x, init_y, best_init_y, best_observed_candidate_rs, best_observed_result_rs, bo_done = load_checkpoint(experiment_name,\n",
        "                                            experiment_results,\n",
        "                                            experiment_configurations) \n",
        "else: \n",
        "  experiment_df = create_experiment_df()\n",
        "  \n",
        "  save_checkpoint(experiment_df, \n",
        "                  experiment_name)\n",
        "\n",
        "  \n",
        "  "
      ]
    },
    {
      "cell_type": "markdown",
      "metadata": {
        "id": "dHTBIpJSQJVZ"
      },
      "source": [
        "First we try the bayesian optimization method"
      ]
    },
    {
      "cell_type": "code",
      "execution_count": null,
      "metadata": {
        "id": "6jScxWwkmzEr"
      },
      "outputs": [],
      "source": [
        "if continue_from_checkpoint:\n",
        "  init_experiment = last_bo_experiment\n",
        "  init_iteration = last_bo_iteration\n",
        "else:\n",
        "  init_experiment = 0\n",
        "  init_iteration = 1\n",
        "  bo_done = False\n",
        "\n",
        "if not bo_done:\n",
        "  for e in range(init_experiment, n_experiments):\n",
        "    print(f\"EXPERIMENT {e}\")\n",
        "    if not (continue_from_checkpoint and init_experiment == e):\n",
        "      # Sample initial hyperparameter values and evaluate the models obtained with them\n",
        "      init_x, init_y, best_init_y = generate_initial_data(upper_bounds[0],\n",
        "                                                          lower_bounds[0],\n",
        "                                                          1)\n",
        "\n",
        "    # We normalize the bounds of the hyperparameters as BOTorch assumes this\n",
        "    normalized_bounds = torch.tensor([[0.0], [1.0]])\n",
        "\n",
        "    # Normalize the hyperparameter as BOTorch assumes this\n",
        "    init_x_normalized = normalize(init_x,\n",
        "                                  bounds=bounds_tensor)\n",
        "\n",
        "    # Standardize the objective as BOTorch assumes this\n",
        "    init_y_standardized = standardize(init_y)\n",
        "\n",
        "    # Obtain the best result among the initial random experiments\n",
        "    best_init_y_standardized = init_y_standardized.max().item()\n",
        "\n",
        "    candidates=[]\n",
        "    results=[]\n",
        "\n",
        "    best_observed_result_bo = best_init_y\n",
        "    best_observed_candidate_bo = init_x[0][0].item()\n",
        "\n",
        "    if not (continue_from_checkpoint and init_experiment == e):\n",
        "      experiment_df = update_experiment_history(bo_method, \n",
        "                                                e, \n",
        "                                                0,\n",
        "                                                best_observed_candidate_bo, # The gamma selected for this iteration\n",
        "                                                best_observed_result_bo, # The reward lower bound of the model\n",
        "                                                best_observed_candidate_bo, # The best_gamma\n",
        "                                                best_observed_result_bo, # The reward lower bound\n",
        "                                                experiment_df,\n",
        "                                                experiment_name)\n",
        "      \n",
        "      experiment_configurations[rs_method,e,0] = best_observed_candidate_bo\n",
        "      experiment_results[rs_method,e,0] = best_observed_result_bo\n",
        "\n",
        "    for i in range(init_iteration, n_iterations+1):\n",
        "      # Get the next points given our actual queries\n",
        "      normalized_new_candidates = get_next_points_and_visualize_norm(init_x_normalized,\n",
        "                                                                    init_y_standardized, \n",
        "                                                                    best_init_y_standardized, \n",
        "                                                                    normalized_bounds,\n",
        "                                                                    i, \n",
        "                                                                    init_x,\n",
        "                                                                    init_y,\n",
        "                                                                    bounds_tensor,\n",
        "                                                                    1,\n",
        "                                                                    True)\n",
        "    \n",
        "      # Unnormalize the candidate hyperparameter value\n",
        "      new_candidates = unnormalize(normalized_new_candidates,\n",
        "                                  bounds=bounds_tensor)\n",
        "      \n",
        "      # Compute the performance of the model\n",
        "      new_results = torch.tensor([[target_function(float(new_candidates))]])\n",
        "\n",
        "      # Update our hyperparameters and rewards history\n",
        "      init_x = torch.cat([init_x, new_candidates])\n",
        "      init_y = torch.cat([init_y, new_results])\n",
        "\n",
        "      # Normalize our updated hyperparameters and rewards history\n",
        "      init_x_normalized = normalize(init_x, bounds=bounds_tensor)\n",
        "      init_y_standardized = standardize(init_y)\n",
        "\n",
        "      # Update the best reward\n",
        "      best_init_y = init_y.max().item()\n",
        "      best_init_y_standardized = init_y_standardized.max().item()\n",
        "      \n",
        "      # Show iteration info\n",
        "      \n",
        "      print(f\"Number of iteration: {i}\")\n",
        "      print(f\"  - Unnormalized learning rate: {new_candidates.item()}\")\n",
        "      print(f\"  - Normalized learning rate: {normalized_new_candidates.item()}\")\n",
        "      print(f\"  - Unstandardized lower reward bound: {new_results.item()}\")\n",
        "      print(f\"  - Standardized lower reward bound: {init_y_standardized[-1].item()}\")\n",
        "      print(f\"Best point performs this way: {best_init_y}\")\n",
        "      candidates.append(float(normalized_new_candidates[0][0]))\n",
        "      results.append(float(standardize(new_results[0][0])))\n",
        "\n",
        "      if best_observed_result_bo < new_results[0][0]:\n",
        "        best_observed_result_bo = new_results[0][0].item()\n",
        "        best_observed_candidate_bo = new_candidates[0][0].item()\n",
        "\n",
        "      experiment_df = update_experiment_history(bo_method, \n",
        "                                                e, \n",
        "                                                i,\n",
        "                                                new_candidates[0][0].item(), # The gamma selected for this iteration\n",
        "                                                new_results[0][0].item(), # The reward lower bound of the model\n",
        "                                                best_observed_candidate_bo, # The best_gamma\n",
        "                                                best_observed_result_bo, # The reward lower bound\n",
        "                                                experiment_df,\n",
        "                                                experiment_name)\n",
        "\n",
        "      experiment_configurations[bo_method,e,i] = best_observed_candidate_bo\n",
        "      experiment_results[bo_method,e,i] = best_observed_result_bo\n",
        "      print('----------------------')\n",
        "    init_iteration = 1"
      ]
    },
    {
      "cell_type": "markdown",
      "metadata": {
        "id": "3kbrnek5JW9f"
      },
      "source": [
        "Now we perform a random search"
      ]
    },
    {
      "cell_type": "code",
      "execution_count": null,
      "metadata": {
        "colab": {
          "base_uri": "https://localhost:8080/"
        },
        "id": "8vpuRYDRJWmf",
        "outputId": "82f20218-361f-4f50-bd1d-234e0fdd516b"
      },
      "outputs": [
        {
          "output_type": "stream",
          "name": "stderr",
          "text": [
            "/usr/local/lib/python3.9/dist-packages/stable_baselines3/common/evaluation.py:67: UserWarning: Evaluation environment is not wrapped with a ``Monitor`` wrapper. This may result in reporting modified episode lengths and rewards, if other wrappers happen to modify these. Consider wrapping environment first with ``Monitor`` wrapper.\n",
            "  warnings.warn(\n"
          ]
        },
        {
          "output_type": "stream",
          "name": "stdout",
          "text": [
            "mean_reward=-125.46 +/- 28.769810926305848\n"
          ]
        },
        {
          "output_type": "stream",
          "name": "stderr",
          "text": [
            "/usr/local/lib/python3.9/dist-packages/stable_baselines3/common/evaluation.py:67: UserWarning: Evaluation environment is not wrapped with a ``Monitor`` wrapper. This may result in reporting modified episode lengths and rewards, if other wrappers happen to modify these. Consider wrapping environment first with ``Monitor`` wrapper.\n",
            "  warnings.warn(\n"
          ]
        },
        {
          "output_type": "stream",
          "name": "stdout",
          "text": [
            "mean_reward=-586.43 +/- 138.98332944259286\n"
          ]
        },
        {
          "output_type": "stream",
          "name": "stderr",
          "text": [
            "/usr/local/lib/python3.9/dist-packages/stable_baselines3/common/evaluation.py:67: UserWarning: Evaluation environment is not wrapped with a ``Monitor`` wrapper. This may result in reporting modified episode lengths and rewards, if other wrappers happen to modify these. Consider wrapping environment first with ``Monitor`` wrapper.\n",
            "  warnings.warn(\n"
          ]
        },
        {
          "output_type": "stream",
          "name": "stdout",
          "text": [
            "mean_reward=-147.11 +/- 40.37750995843414\n"
          ]
        },
        {
          "output_type": "stream",
          "name": "stderr",
          "text": [
            "/usr/local/lib/python3.9/dist-packages/stable_baselines3/common/evaluation.py:67: UserWarning: Evaluation environment is not wrapped with a ``Monitor`` wrapper. This may result in reporting modified episode lengths and rewards, if other wrappers happen to modify these. Consider wrapping environment first with ``Monitor`` wrapper.\n",
            "  warnings.warn(\n"
          ]
        },
        {
          "output_type": "stream",
          "name": "stdout",
          "text": [
            "mean_reward=-540.64 +/- 129.31735583757995\n"
          ]
        },
        {
          "output_type": "stream",
          "name": "stderr",
          "text": [
            "/usr/local/lib/python3.9/dist-packages/stable_baselines3/common/evaluation.py:67: UserWarning: Evaluation environment is not wrapped with a ``Monitor`` wrapper. This may result in reporting modified episode lengths and rewards, if other wrappers happen to modify these. Consider wrapping environment first with ``Monitor`` wrapper.\n",
            "  warnings.warn(\n"
          ]
        },
        {
          "output_type": "stream",
          "name": "stdout",
          "text": [
            "mean_reward=-494.27 +/- 126.70173718615793\n"
          ]
        },
        {
          "output_type": "stream",
          "name": "stderr",
          "text": [
            "/usr/local/lib/python3.9/dist-packages/stable_baselines3/common/evaluation.py:67: UserWarning: Evaluation environment is not wrapped with a ``Monitor`` wrapper. This may result in reporting modified episode lengths and rewards, if other wrappers happen to modify these. Consider wrapping environment first with ``Monitor`` wrapper.\n",
            "  warnings.warn(\n"
          ]
        },
        {
          "output_type": "stream",
          "name": "stdout",
          "text": [
            "mean_reward=-566.13 +/- 165.20301086923138\n"
          ]
        },
        {
          "output_type": "stream",
          "name": "stderr",
          "text": [
            "/usr/local/lib/python3.9/dist-packages/stable_baselines3/common/evaluation.py:67: UserWarning: Evaluation environment is not wrapped with a ``Monitor`` wrapper. This may result in reporting modified episode lengths and rewards, if other wrappers happen to modify these. Consider wrapping environment first with ``Monitor`` wrapper.\n",
            "  warnings.warn(\n"
          ]
        },
        {
          "output_type": "stream",
          "name": "stdout",
          "text": [
            "mean_reward=167.70 +/- 97.22974289499858\n"
          ]
        },
        {
          "output_type": "stream",
          "name": "stderr",
          "text": [
            "/usr/local/lib/python3.9/dist-packages/stable_baselines3/common/evaluation.py:67: UserWarning: Evaluation environment is not wrapped with a ``Monitor`` wrapper. This may result in reporting modified episode lengths and rewards, if other wrappers happen to modify these. Consider wrapping environment first with ``Monitor`` wrapper.\n",
            "  warnings.warn(\n"
          ]
        },
        {
          "output_type": "stream",
          "name": "stdout",
          "text": [
            "mean_reward=-1001.93 +/- 759.20583372696\n"
          ]
        },
        {
          "output_type": "stream",
          "name": "stderr",
          "text": [
            "/usr/local/lib/python3.9/dist-packages/stable_baselines3/common/evaluation.py:67: UserWarning: Evaluation environment is not wrapped with a ``Monitor`` wrapper. This may result in reporting modified episode lengths and rewards, if other wrappers happen to modify these. Consider wrapping environment first with ``Monitor`` wrapper.\n",
            "  warnings.warn(\n"
          ]
        },
        {
          "output_type": "stream",
          "name": "stdout",
          "text": [
            "mean_reward=-114.68 +/- 92.91706623737736\n"
          ]
        },
        {
          "output_type": "stream",
          "name": "stderr",
          "text": [
            "/usr/local/lib/python3.9/dist-packages/stable_baselines3/common/evaluation.py:67: UserWarning: Evaluation environment is not wrapped with a ``Monitor`` wrapper. This may result in reporting modified episode lengths and rewards, if other wrappers happen to modify these. Consider wrapping environment first with ``Monitor`` wrapper.\n",
            "  warnings.warn(\n"
          ]
        },
        {
          "output_type": "stream",
          "name": "stdout",
          "text": [
            "mean_reward=-550.43 +/- 146.18252579595975\n"
          ]
        },
        {
          "output_type": "stream",
          "name": "stderr",
          "text": [
            "/usr/local/lib/python3.9/dist-packages/stable_baselines3/common/evaluation.py:67: UserWarning: Evaluation environment is not wrapped with a ``Monitor`` wrapper. This may result in reporting modified episode lengths and rewards, if other wrappers happen to modify these. Consider wrapping environment first with ``Monitor`` wrapper.\n",
            "  warnings.warn(\n"
          ]
        },
        {
          "output_type": "stream",
          "name": "stdout",
          "text": [
            "mean_reward=-853.99 +/- 495.7271938446746\n"
          ]
        },
        {
          "output_type": "stream",
          "name": "stderr",
          "text": [
            "/usr/local/lib/python3.9/dist-packages/stable_baselines3/common/evaluation.py:67: UserWarning: Evaluation environment is not wrapped with a ``Monitor`` wrapper. This may result in reporting modified episode lengths and rewards, if other wrappers happen to modify these. Consider wrapping environment first with ``Monitor`` wrapper.\n",
            "  warnings.warn(\n"
          ]
        },
        {
          "output_type": "stream",
          "name": "stdout",
          "text": [
            "mean_reward=-1070.62 +/- 1096.2231744528847\n"
          ]
        },
        {
          "output_type": "stream",
          "name": "stderr",
          "text": [
            "/usr/local/lib/python3.9/dist-packages/stable_baselines3/common/evaluation.py:67: UserWarning: Evaluation environment is not wrapped with a ``Monitor`` wrapper. This may result in reporting modified episode lengths and rewards, if other wrappers happen to modify these. Consider wrapping environment first with ``Monitor`` wrapper.\n",
            "  warnings.warn(\n"
          ]
        },
        {
          "output_type": "stream",
          "name": "stdout",
          "text": [
            "mean_reward=-579.23 +/- 166.5604235439249\n"
          ]
        },
        {
          "output_type": "stream",
          "name": "stderr",
          "text": [
            "/usr/local/lib/python3.9/dist-packages/stable_baselines3/common/evaluation.py:67: UserWarning: Evaluation environment is not wrapped with a ``Monitor`` wrapper. This may result in reporting modified episode lengths and rewards, if other wrappers happen to modify these. Consider wrapping environment first with ``Monitor`` wrapper.\n",
            "  warnings.warn(\n"
          ]
        },
        {
          "output_type": "stream",
          "name": "stdout",
          "text": [
            "mean_reward=-820.42 +/- 550.3143097017834\n"
          ]
        },
        {
          "output_type": "stream",
          "name": "stderr",
          "text": [
            "/usr/local/lib/python3.9/dist-packages/stable_baselines3/common/evaluation.py:67: UserWarning: Evaluation environment is not wrapped with a ``Monitor`` wrapper. This may result in reporting modified episode lengths and rewards, if other wrappers happen to modify these. Consider wrapping environment first with ``Monitor`` wrapper.\n",
            "  warnings.warn(\n"
          ]
        },
        {
          "output_type": "stream",
          "name": "stdout",
          "text": [
            "mean_reward=-631.04 +/- 135.40202520040742\n"
          ]
        },
        {
          "output_type": "stream",
          "name": "stderr",
          "text": [
            "/usr/local/lib/python3.9/dist-packages/stable_baselines3/common/evaluation.py:67: UserWarning: Evaluation environment is not wrapped with a ``Monitor`` wrapper. This may result in reporting modified episode lengths and rewards, if other wrappers happen to modify these. Consider wrapping environment first with ``Monitor`` wrapper.\n",
            "  warnings.warn(\n"
          ]
        },
        {
          "output_type": "stream",
          "name": "stdout",
          "text": [
            "mean_reward=-601.95 +/- 170.7899672895965\n"
          ]
        }
      ],
      "source": [
        "if continue_from_checkpoint:\n",
        "  init_experiment = last_rs_experiment\n",
        "  init_iteration = last_rs_iteration\n",
        "else:\n",
        "  init_experiment = 0\n",
        "  init_iteration = 1\n",
        "\n",
        "for e in range(init_experiment, n_experiments):\n",
        "  if not (continue_from_checkpoint and init_experiment == e) or (init_experiment==0 and init_iteration==1):\n",
        "    # Initiate with a random value\n",
        "    random_value = np.random.random() * (upper_bounds[0] - lower_bounds[0]) + lower_bounds[0]\n",
        "    best_observed_result_rs = target_function(random_value)\n",
        "    best_observed_candidate_rs = random_value\n",
        "    # Update our experiments histories\n",
        "    experiment_df = update_experiment_history(rs_method, \n",
        "                                              e, \n",
        "                                              0,\n",
        "                                              random_value, # The gamma selected for this iteration\n",
        "                                              best_observed_result_rs, # The reward lower bound of the model\n",
        "                                              best_observed_candidate_rs, # The best_gamma\n",
        "                                              best_observed_result_rs, # The reward lower bound\n",
        "                                              experiment_df,\n",
        "                                              experiment_name)\n",
        "  \n",
        "  # Iterate with random search\n",
        "  for i in range(init_iteration, n_iterations+1):\n",
        "    # Get a new random value for the hyperparameter\n",
        "    random_value = np.random.random() * (upper_bounds[0] - lower_bounds[0]) + lower_bounds[0]\n",
        "    # Evaluate the model with that hyperparameter value\n",
        "    rs_obj_fun_result = target_function(random_value)\n",
        "\n",
        "    # Update best reward and candidate found if necessary\n",
        "    if best_observed_result_rs < rs_obj_fun_result:\n",
        "      best_observed_result_rs = rs_obj_fun_result\n",
        "      best_observed_candidate_rs = random_value\n",
        "    \n",
        "    # Update our experiments histories\n",
        "    experiment_df = update_experiment_history(rs_method, \n",
        "                                              e, \n",
        "                                              i,\n",
        "                                              random_value, # The gamma selected for this iteration\n",
        "                                              rs_obj_fun_result, # The reward lower bound of the model\n",
        "                                              best_observed_candidate_rs, # The best_gamma\n",
        "                                              best_observed_result_rs, # The reward lower bound\n",
        "                                              experiment_df,\n",
        "                                              experiment_name)\n",
        "    experiment_configurations[rs_method,e,i] = best_observed_candidate_rs\n",
        "    experiment_results[rs_method,e,i] = best_observed_result_rs\n",
        "\n",
        "  init_iteration = 1"
      ]
    },
    {
      "cell_type": "markdown",
      "metadata": {
        "id": "ukMdAAapSR2c"
      },
      "source": [
        "# Step 7: Compare the results"
      ]
    },
    {
      "cell_type": "markdown",
      "metadata": {
        "id": "BeN8EWoOSVxC"
      },
      "source": [
        "First we give the recommendation as the best observed result"
      ]
    },
    {
      "cell_type": "code",
      "execution_count": null,
      "metadata": {
        "id": "nlf2cyT-SZf2",
        "colab": {
          "base_uri": "https://localhost:8080/"
        },
        "outputId": "751e185a-ef94-43d1-fb97-02f5a5717e94"
      },
      "outputs": [
        {
          "output_type": "stream",
          "name": "stdout",
          "text": [
            "The best observed result is: 263.62433672284834\n",
            "The best observed result belong to the : 0 method. Its value is 0.0013655493491329\n"
          ]
        }
      ],
      "source": [
        "best_observed_result = np.max(experiment_results)\n",
        "index_set = np.where(experiment_results==best_observed_result)\n",
        "print(\"The best observed result is: \" + str(best_observed_result))\n",
        "print(\"The best observed result belong to the : \" + str(index_set[0][0]) + \" method. Its value is \" + str(experiment_configurations[index_set][0]))"
      ]
    },
    {
      "cell_type": "markdown",
      "metadata": {
        "id": "3jZ5oFK6Sf3Q"
      },
      "source": [
        "And now we plot the results to compare both methods"
      ]
    },
    {
      "cell_type": "code",
      "execution_count": null,
      "metadata": {
        "id": "lgo_wr7VSj7k",
        "colab": {
          "base_uri": "https://localhost:8080/",
          "height": 542
        },
        "outputId": "5c4e2d3a-31b3-4217-d9b4-f9b6ac80aa8d"
      },
      "outputs": [
        {
          "output_type": "display_data",
          "data": {
            "text/html": [
              "<html>\n",
              "<head><meta charset=\"utf-8\" /></head>\n",
              "<body>\n",
              "    <div>            <script src=\"https://cdnjs.cloudflare.com/ajax/libs/mathjax/2.7.5/MathJax.js?config=TeX-AMS-MML_SVG\"></script><script type=\"text/javascript\">if (window.MathJax && window.MathJax.Hub && window.MathJax.Hub.Config) {window.MathJax.Hub.Config({SVG: {font: \"STIX-Web\"}});}</script>                <script type=\"text/javascript\">window.PlotlyConfig = {MathJaxConfig: 'local'};</script>\n",
              "        <script src=\"https://cdn.plot.ly/plotly-2.18.2.min.js\"></script>                <div id=\"736ac2e5-41f1-42eb-a2d6-9868edb3ae8f\" class=\"plotly-graph-div\" style=\"height:525px; width:100%;\"></div>            <script type=\"text/javascript\">                                    window.PLOTLYENV=window.PLOTLYENV || {};                                    if (document.getElementById(\"736ac2e5-41f1-42eb-a2d6-9868edb3ae8f\")) {                    Plotly.newPlot(                        \"736ac2e5-41f1-42eb-a2d6-9868edb3ae8f\",                        [{\"line\":{\"color\":\"green\",\"width\":0.1},\"mode\":\"lines\",\"name\":\"\",\"x\":[1,2,3,4,5,6,7,8,9,10,11,12,13,14,15,16,17,18,19,20,21,22,23,24,25],\"y\":[-373.7453320707043,-97.37012633594769,59.584632648801644,68.45756420109333,118.28266751946148,143.84362137558583,175.73838732772347,181.21598094401253,182.30215461349667,182.30215461349667,197.78047118404342,198.78187001231038,206.75264528901405,213.3974835043085,216.30672504732448,216.30672504732448,218.0230536060551,218.0230536060551,225.49762950627087,229.11904466401947,235.42185850018603,235.42185850018603,235.99090043339544,235.99090043339544,235.99090043339544,235.99090043339544],\"type\":\"scatter\"},{\"fill\":\"tonexty\",\"line\":{\"color\":\"green\"},\"mode\":\"lines\",\"name\":\"Bayesian Optimization\",\"x\":[1,2,3,4,5,6,7,8,9,10,11,12,13,14,15,16,17,18,19,20,21,22,23,24,25],\"y\":[-475.74071719091734,-159.65344935955872,18.900979834431677,27.414798336475485,84.92836519498589,121.69970365628039,154.18888373528793,159.58223840680827,160.55062226438844,160.55062226438844,178.37486017050105,180.94284474952246,191.98084700749206,198.92023638287822,203.27490223253847,203.27490223253847,205.10818135961577,205.10818135961577,212.64899087704129,217.99872758884308,226.4585049985175,226.4585049985175,227.00657016047904,227.00657016047904,227.00657016047904,227.00657016047904],\"type\":\"scatter\"},{\"fill\":\"tonexty\",\"line\":{\"color\":\"green\",\"width\":0.1},\"mode\":\"lines\",\"name\":\"\",\"x\":[1,2,3,4,5,6,7,8,9,10,11,12,13,14,15,16,17,18,19,20,21,22,23,24,25],\"y\":[-577.7361023111304,-221.93677238316974,-21.782672979938294,-13.627967528142364,51.574062870510296,99.55578593697496,132.6393801428524,137.94849586960402,138.7990899152802,138.7990899152802,158.96924915695868,163.10381948673455,177.20904872597006,184.44298926144793,190.24307941775245,190.24307941775245,192.19330911317644,192.19330911317644,199.8003522478117,206.8784105136667,217.49515149684896,217.49515149684896,218.02223988756265,218.02223988756265,218.02223988756265,218.02223988756265],\"type\":\"scatter\"},{\"line\":{\"color\":\"red\",\"width\":0.1},\"mode\":\"lines\",\"name\":\"\",\"x\":[1,2,3,4,5,6,7,8,9,10,11,12,13,14,15,16,17,18,19,20,21,22,23,24,25],\"y\":[-452.6377017895028,-218.0833054944743,-181.80354465090306,-127.06242135197095,-124.3246760439446,8.5494255184326,16.552483899755494,103.66138617638919,126.98595421489756,163.38503664859192,176.48646303342815,176.75656288822498,195.20257278761292,212.85511705990206,212.85511705990206,210.26188491024814,210.26188491024814,210.26188491024814,210.26188491024814,210.26188491024814,210.26188491024814,207.99011653496717,207.99011653496717,205.93713291572536,205.93713291572536,209.9147255861142],\"type\":\"scatter\"},{\"fill\":\"tonexty\",\"line\":{\"color\":\"red\"},\"mode\":\"lines\",\"name\":\"Random Search\",\"x\":[1,2,3,4,5,6,7,8,9,10,11,12,13,14,15,16,17,18,19,20,21,22,23,24,25],\"y\":[-602.4248512425474,-315.3409286320595,-248.60839471640148,-177.76153722400846,-175.04659644868084,-42.81048420144171,-36.08086831466252,59.09009137221762,83.85407117432769,126.62409664737248,139.70334371097962,140.2489060330596,164.22823451582687,189.44716981045252,189.44716981045252,187.08779792497734,187.08779792497734,187.08779792497734,187.08779792497734,187.08779792497734,187.08779792497734,185.02270413591685,185.02270413591685,183.1600242626629,183.1600242626629,186.67102864035013],\"type\":\"scatter\"},{\"fill\":\"tonexty\",\"line\":{\"color\":\"red\",\"width\":0.1},\"mode\":\"lines\",\"name\":\"\",\"x\":[1,2,3,4,5,6,7,8,9,10,11,12,13,14,15,16,17,18,19,20,21,22,23,24,25],\"y\":[-752.2120006955921,-412.5985517696447,-315.4132447818999,-228.46065309604597,-225.76851685341708,-94.17039392131602,-88.71422052908054,14.518796568046064,40.722188133757804,89.86315664615304,102.9202243885311,103.74124917789422,133.25389624404082,166.039222561003,166.039222561003,163.91371093970653,163.91371093970653,163.91371093970653,163.91371093970653,163.91371093970653,163.91371093970653,162.05529173686654,162.05529173686654,160.38291560960042,160.38291560960042,163.42733169458606],\"type\":\"scatter\"}],                        {\"template\":{\"data\":{\"histogram2dcontour\":[{\"type\":\"histogram2dcontour\",\"colorbar\":{\"outlinewidth\":0,\"ticks\":\"\"},\"colorscale\":[[0.0,\"#0d0887\"],[0.1111111111111111,\"#46039f\"],[0.2222222222222222,\"#7201a8\"],[0.3333333333333333,\"#9c179e\"],[0.4444444444444444,\"#bd3786\"],[0.5555555555555556,\"#d8576b\"],[0.6666666666666666,\"#ed7953\"],[0.7777777777777778,\"#fb9f3a\"],[0.8888888888888888,\"#fdca26\"],[1.0,\"#f0f921\"]]}],\"choropleth\":[{\"type\":\"choropleth\",\"colorbar\":{\"outlinewidth\":0,\"ticks\":\"\"}}],\"histogram2d\":[{\"type\":\"histogram2d\",\"colorbar\":{\"outlinewidth\":0,\"ticks\":\"\"},\"colorscale\":[[0.0,\"#0d0887\"],[0.1111111111111111,\"#46039f\"],[0.2222222222222222,\"#7201a8\"],[0.3333333333333333,\"#9c179e\"],[0.4444444444444444,\"#bd3786\"],[0.5555555555555556,\"#d8576b\"],[0.6666666666666666,\"#ed7953\"],[0.7777777777777778,\"#fb9f3a\"],[0.8888888888888888,\"#fdca26\"],[1.0,\"#f0f921\"]]}],\"heatmap\":[{\"type\":\"heatmap\",\"colorbar\":{\"outlinewidth\":0,\"ticks\":\"\"},\"colorscale\":[[0.0,\"#0d0887\"],[0.1111111111111111,\"#46039f\"],[0.2222222222222222,\"#7201a8\"],[0.3333333333333333,\"#9c179e\"],[0.4444444444444444,\"#bd3786\"],[0.5555555555555556,\"#d8576b\"],[0.6666666666666666,\"#ed7953\"],[0.7777777777777778,\"#fb9f3a\"],[0.8888888888888888,\"#fdca26\"],[1.0,\"#f0f921\"]]}],\"heatmapgl\":[{\"type\":\"heatmapgl\",\"colorbar\":{\"outlinewidth\":0,\"ticks\":\"\"},\"colorscale\":[[0.0,\"#0d0887\"],[0.1111111111111111,\"#46039f\"],[0.2222222222222222,\"#7201a8\"],[0.3333333333333333,\"#9c179e\"],[0.4444444444444444,\"#bd3786\"],[0.5555555555555556,\"#d8576b\"],[0.6666666666666666,\"#ed7953\"],[0.7777777777777778,\"#fb9f3a\"],[0.8888888888888888,\"#fdca26\"],[1.0,\"#f0f921\"]]}],\"contourcarpet\":[{\"type\":\"contourcarpet\",\"colorbar\":{\"outlinewidth\":0,\"ticks\":\"\"}}],\"contour\":[{\"type\":\"contour\",\"colorbar\":{\"outlinewidth\":0,\"ticks\":\"\"},\"colorscale\":[[0.0,\"#0d0887\"],[0.1111111111111111,\"#46039f\"],[0.2222222222222222,\"#7201a8\"],[0.3333333333333333,\"#9c179e\"],[0.4444444444444444,\"#bd3786\"],[0.5555555555555556,\"#d8576b\"],[0.6666666666666666,\"#ed7953\"],[0.7777777777777778,\"#fb9f3a\"],[0.8888888888888888,\"#fdca26\"],[1.0,\"#f0f921\"]]}],\"surface\":[{\"type\":\"surface\",\"colorbar\":{\"outlinewidth\":0,\"ticks\":\"\"},\"colorscale\":[[0.0,\"#0d0887\"],[0.1111111111111111,\"#46039f\"],[0.2222222222222222,\"#7201a8\"],[0.3333333333333333,\"#9c179e\"],[0.4444444444444444,\"#bd3786\"],[0.5555555555555556,\"#d8576b\"],[0.6666666666666666,\"#ed7953\"],[0.7777777777777778,\"#fb9f3a\"],[0.8888888888888888,\"#fdca26\"],[1.0,\"#f0f921\"]]}],\"mesh3d\":[{\"type\":\"mesh3d\",\"colorbar\":{\"outlinewidth\":0,\"ticks\":\"\"}}],\"scatter\":[{\"fillpattern\":{\"fillmode\":\"overlay\",\"size\":10,\"solidity\":0.2},\"type\":\"scatter\"}],\"parcoords\":[{\"type\":\"parcoords\",\"line\":{\"colorbar\":{\"outlinewidth\":0,\"ticks\":\"\"}}}],\"scatterpolargl\":[{\"type\":\"scatterpolargl\",\"marker\":{\"colorbar\":{\"outlinewidth\":0,\"ticks\":\"\"}}}],\"bar\":[{\"error_x\":{\"color\":\"#2a3f5f\"},\"error_y\":{\"color\":\"#2a3f5f\"},\"marker\":{\"line\":{\"color\":\"#E5ECF6\",\"width\":0.5},\"pattern\":{\"fillmode\":\"overlay\",\"size\":10,\"solidity\":0.2}},\"type\":\"bar\"}],\"scattergeo\":[{\"type\":\"scattergeo\",\"marker\":{\"colorbar\":{\"outlinewidth\":0,\"ticks\":\"\"}}}],\"scatterpolar\":[{\"type\":\"scatterpolar\",\"marker\":{\"colorbar\":{\"outlinewidth\":0,\"ticks\":\"\"}}}],\"histogram\":[{\"marker\":{\"pattern\":{\"fillmode\":\"overlay\",\"size\":10,\"solidity\":0.2}},\"type\":\"histogram\"}],\"scattergl\":[{\"type\":\"scattergl\",\"marker\":{\"colorbar\":{\"outlinewidth\":0,\"ticks\":\"\"}}}],\"scatter3d\":[{\"type\":\"scatter3d\",\"line\":{\"colorbar\":{\"outlinewidth\":0,\"ticks\":\"\"}},\"marker\":{\"colorbar\":{\"outlinewidth\":0,\"ticks\":\"\"}}}],\"scattermapbox\":[{\"type\":\"scattermapbox\",\"marker\":{\"colorbar\":{\"outlinewidth\":0,\"ticks\":\"\"}}}],\"scatterternary\":[{\"type\":\"scatterternary\",\"marker\":{\"colorbar\":{\"outlinewidth\":0,\"ticks\":\"\"}}}],\"scattercarpet\":[{\"type\":\"scattercarpet\",\"marker\":{\"colorbar\":{\"outlinewidth\":0,\"ticks\":\"\"}}}],\"carpet\":[{\"aaxis\":{\"endlinecolor\":\"#2a3f5f\",\"gridcolor\":\"white\",\"linecolor\":\"white\",\"minorgridcolor\":\"white\",\"startlinecolor\":\"#2a3f5f\"},\"baxis\":{\"endlinecolor\":\"#2a3f5f\",\"gridcolor\":\"white\",\"linecolor\":\"white\",\"minorgridcolor\":\"white\",\"startlinecolor\":\"#2a3f5f\"},\"type\":\"carpet\"}],\"table\":[{\"cells\":{\"fill\":{\"color\":\"#EBF0F8\"},\"line\":{\"color\":\"white\"}},\"header\":{\"fill\":{\"color\":\"#C8D4E3\"},\"line\":{\"color\":\"white\"}},\"type\":\"table\"}],\"barpolar\":[{\"marker\":{\"line\":{\"color\":\"#E5ECF6\",\"width\":0.5},\"pattern\":{\"fillmode\":\"overlay\",\"size\":10,\"solidity\":0.2}},\"type\":\"barpolar\"}],\"pie\":[{\"automargin\":true,\"type\":\"pie\"}]},\"layout\":{\"autotypenumbers\":\"strict\",\"colorway\":[\"#636efa\",\"#EF553B\",\"#00cc96\",\"#ab63fa\",\"#FFA15A\",\"#19d3f3\",\"#FF6692\",\"#B6E880\",\"#FF97FF\",\"#FECB52\"],\"font\":{\"color\":\"#2a3f5f\"},\"hovermode\":\"closest\",\"hoverlabel\":{\"align\":\"left\"},\"paper_bgcolor\":\"white\",\"plot_bgcolor\":\"#E5ECF6\",\"polar\":{\"bgcolor\":\"#E5ECF6\",\"angularaxis\":{\"gridcolor\":\"white\",\"linecolor\":\"white\",\"ticks\":\"\"},\"radialaxis\":{\"gridcolor\":\"white\",\"linecolor\":\"white\",\"ticks\":\"\"}},\"ternary\":{\"bgcolor\":\"#E5ECF6\",\"aaxis\":{\"gridcolor\":\"white\",\"linecolor\":\"white\",\"ticks\":\"\"},\"baxis\":{\"gridcolor\":\"white\",\"linecolor\":\"white\",\"ticks\":\"\"},\"caxis\":{\"gridcolor\":\"white\",\"linecolor\":\"white\",\"ticks\":\"\"}},\"coloraxis\":{\"colorbar\":{\"outlinewidth\":0,\"ticks\":\"\"}},\"colorscale\":{\"sequential\":[[0.0,\"#0d0887\"],[0.1111111111111111,\"#46039f\"],[0.2222222222222222,\"#7201a8\"],[0.3333333333333333,\"#9c179e\"],[0.4444444444444444,\"#bd3786\"],[0.5555555555555556,\"#d8576b\"],[0.6666666666666666,\"#ed7953\"],[0.7777777777777778,\"#fb9f3a\"],[0.8888888888888888,\"#fdca26\"],[1.0,\"#f0f921\"]],\"sequentialminus\":[[0.0,\"#0d0887\"],[0.1111111111111111,\"#46039f\"],[0.2222222222222222,\"#7201a8\"],[0.3333333333333333,\"#9c179e\"],[0.4444444444444444,\"#bd3786\"],[0.5555555555555556,\"#d8576b\"],[0.6666666666666666,\"#ed7953\"],[0.7777777777777778,\"#fb9f3a\"],[0.8888888888888888,\"#fdca26\"],[1.0,\"#f0f921\"]],\"diverging\":[[0,\"#8e0152\"],[0.1,\"#c51b7d\"],[0.2,\"#de77ae\"],[0.3,\"#f1b6da\"],[0.4,\"#fde0ef\"],[0.5,\"#f7f7f7\"],[0.6,\"#e6f5d0\"],[0.7,\"#b8e186\"],[0.8,\"#7fbc41\"],[0.9,\"#4d9221\"],[1,\"#276419\"]]},\"xaxis\":{\"gridcolor\":\"white\",\"linecolor\":\"white\",\"ticks\":\"\",\"title\":{\"standoff\":15},\"zerolinecolor\":\"white\",\"automargin\":true,\"zerolinewidth\":2},\"yaxis\":{\"gridcolor\":\"white\",\"linecolor\":\"white\",\"ticks\":\"\",\"title\":{\"standoff\":15},\"zerolinecolor\":\"white\",\"automargin\":true,\"zerolinewidth\":2},\"scene\":{\"xaxis\":{\"backgroundcolor\":\"#E5ECF6\",\"gridcolor\":\"white\",\"linecolor\":\"white\",\"showbackground\":true,\"ticks\":\"\",\"zerolinecolor\":\"white\",\"gridwidth\":2},\"yaxis\":{\"backgroundcolor\":\"#E5ECF6\",\"gridcolor\":\"white\",\"linecolor\":\"white\",\"showbackground\":true,\"ticks\":\"\",\"zerolinecolor\":\"white\",\"gridwidth\":2},\"zaxis\":{\"backgroundcolor\":\"#E5ECF6\",\"gridcolor\":\"white\",\"linecolor\":\"white\",\"showbackground\":true,\"ticks\":\"\",\"zerolinecolor\":\"white\",\"gridwidth\":2}},\"shapedefaults\":{\"line\":{\"color\":\"#2a3f5f\"}},\"annotationdefaults\":{\"arrowcolor\":\"#2a3f5f\",\"arrowhead\":0,\"arrowwidth\":1},\"geo\":{\"bgcolor\":\"white\",\"landcolor\":\"#E5ECF6\",\"subunitcolor\":\"white\",\"showland\":true,\"showlakes\":true,\"lakecolor\":\"white\"},\"title\":{\"x\":0.05},\"mapbox\":{\"style\":\"light\"}}},\"title\":{\"text\":\"Performance comparison between BO and RS\"},\"xaxis\":{\"title\":{\"text\":\"Iterations\"}},\"yaxis\":{\"title\":{\"text\":\"Reward lower bound\"}}},                        {\"responsive\": true}                    ).then(function(){\n",
              "                            \n",
              "var gd = document.getElementById('736ac2e5-41f1-42eb-a2d6-9868edb3ae8f');\n",
              "var x = new MutationObserver(function (mutations, observer) {{\n",
              "        var display = window.getComputedStyle(gd).display;\n",
              "        if (!display || display === 'none') {{\n",
              "            console.log([gd, 'removed!']);\n",
              "            Plotly.purge(gd);\n",
              "            observer.disconnect();\n",
              "        }}\n",
              "}});\n",
              "\n",
              "// Listen for the removal of the full notebook cells\n",
              "var notebookContainer = gd.closest('#notebook-container');\n",
              "if (notebookContainer) {{\n",
              "    x.observe(notebookContainer, {childList: true});\n",
              "}}\n",
              "\n",
              "// Listen for the clearing of the current output cell\n",
              "var outputEl = gd.closest('.output');\n",
              "if (outputEl) {{\n",
              "    x.observe(outputEl, {childList: true});\n",
              "}}\n",
              "\n",
              "                        })                };                            </script>        </div>\n",
              "</body>\n",
              "</html>"
            ]
          },
          "metadata": {}
        }
      ],
      "source": [
        "x = np.linspace(1, n_iterations, n_iterations).astype(int)\n",
        "mean_bo = np.mean(experiment_results[0,:,:], axis=0)\n",
        "mean_rs = np.mean(experiment_results[1,:,:], axis=0)\n",
        "std_bo = np.std(experiment_results[0,:,:], axis=0) * 0.25\n",
        "std_rs = np.std(experiment_results[1,:,:], axis=0) * 0.25\n",
        "bo_ub_results = go.Scatter(x=x, y=mean_bo + std_bo, mode='lines', name=\"\", line_color=\"green\", line_width=0.1)\n",
        "bo_results = go.Scatter(x=x, y=mean_bo, mode='lines', fill='tonexty', line_color=\"green\", name=\"Bayesian Optimization\")\n",
        "bo_lb_results = go.Scatter(x=x, y=mean_bo - std_bo, mode='lines', fill='tonexty', name=\"\", line_color=\"green\", line_width=0.1)\n",
        "\n",
        "rs_ub_results = go.Scatter(x=x, y=mean_rs + std_rs, mode='lines', name=\"\", line_color=\"red\", line_width=0.1)\n",
        "rs_results = go.Scatter(x=x, y=mean_rs, mode='lines', fill='tonexty', line_color=\"red\", name=\"Random Search\")\n",
        "rs_lb_results = go.Scatter(x=x, y=mean_rs - std_rs, mode='lines', fill='tonexty', name=\"\", line_color=\"red\", line_width=0.1)\n",
        "  \n",
        "fig = go.Figure()\n",
        "fig.add_trace(bo_ub_results)\n",
        "fig.add_trace(bo_results)\n",
        "fig.add_trace(bo_lb_results)\n",
        "fig.add_trace(rs_ub_results)\n",
        "fig.add_trace(rs_results)\n",
        "fig.add_trace(rs_lb_results)\n",
        "fig.update_layout(title=\"Performance comparison between BO and RS\", xaxis_title=\"Iterations\", yaxis_title=\"Reward lower bound\")\n",
        "fig.show()"
      ]
    }
  ],
  "metadata": {
    "accelerator": "GPU",
    "colab": {
      "provenance": []
    },
    "gpuClass": "standard",
    "kernelspec": {
      "display_name": "Python 3",
      "name": "python3"
    },
    "language_info": {
      "name": "python"
    }
  },
  "nbformat": 4,
  "nbformat_minor": 0
}