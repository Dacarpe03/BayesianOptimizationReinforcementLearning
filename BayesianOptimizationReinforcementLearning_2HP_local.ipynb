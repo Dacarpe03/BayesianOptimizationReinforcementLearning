{
 "cells": [
  {
   "cell_type": "markdown",
   "metadata": {
    "id": "CR0o63R4Xa6F"
   },
   "source": [
    "# Step 1: Install dependencies"
   ]
  },
  {
   "cell_type": "markdown",
   "metadata": {
    "id": "Kpv4u1hZX2Vv"
   },
   "source": [
    "# Step 2: Import libraries"
   ]
  },
  {
   "cell_type": "markdown",
   "metadata": {
    "id": "riwFQZMNtU_4"
   },
   "source": [
    "Libraries used for the Bayesian Optimization Loop"
   ]
  },
  {
   "cell_type": "code",
   "execution_count": 1,
   "metadata": {
    "id": "4mw25s5cYPuv"
   },
   "outputs": [],
   "source": [
    "import os\n",
    "import torch\n",
    "import numpy as np\n",
    "import plotly\n",
    "import plotly.graph_objects as go\n",
    "import pandas as pd\n",
    "\n",
    "import gymnasium as gym\n",
    "\n",
    "import stable_baselines3\n",
    "from stable_baselines3 import PPO\n",
    "from stable_baselines3.common.evaluation import evaluate_policy\n",
    "from stable_baselines3.common.env_util import make_vec_env\n",
    "\n",
    "import botorch\n",
    "from botorch.utils.transforms import standardize, normalize, unnormalize"
   ]
  },
  {
   "cell_type": "markdown",
   "metadata": {
    "id": "kSAValUHtY_h"
   },
   "source": [
    "Libraries used to save checkpoints in GDrive"
   ]
  },
  {
   "cell_type": "markdown",
   "metadata": {
    "id": "8xdYx-gMYyeV"
   },
   "source": [
    "# Step 3: Define objetive function\n",
    "This will be the lower bound of the mean reward of a trained model "
   ]
  },
  {
   "cell_type": "code",
   "execution_count": 2,
   "metadata": {
    "id": "XNRXK99lY_T9"
   },
   "outputs": [],
   "source": [
    "def get_hyp_values(hyperparams_tensor):\n",
    "  '''\n",
    "  Returns a tuple of values from a tensor containing a hyperparameter configuration\n",
    "\n",
    "          Parameters:\n",
    "                  hyperparams_tensor (torch.DoubleTensor): A tensor of size 1xn (1 row, n columns) with n being the number of hyperparameters to tune\n",
    "          \n",
    "          Returns:\n",
    "                  hyperparams_tuple (tuple): A tuple with the unpacked values of the hyperparams_tensor \n",
    "\n",
    "  '''\n",
    "  hyperparams_list = [hyperparams_tensor[i].item() for i in range(len(hyperparams_tensor))]\n",
    "  hyperparams_tuple = tuple(hyperparams_list)\n",
    "  return tuple(hyperparams_list)\n",
    "\n",
    "\n",
    "def create_model(hyperparams,\n",
    "                 policy='MlpPolicy',\n",
    "                 env_name='LunarLander-v2'):\n",
    "  '''\n",
    "  Returns a PPO model given a policy, environment, and hyperparameters of PPO\n",
    "\n",
    "          Parameters:\n",
    "                  hyperparams (torch.DoubleTensor): A tensor of size 1x2 (1 row, n columns) with the learning rate and gamma to train the model with\n",
    "                  policy (str): The NN to train with PPO in the environment. Default is 'MlpPolicy'\n",
    "                  env (stable_baselines3.common.vec_env.dummy_vec_env.DummyVecEnv): Specifies the gym environment to use for the training\n",
    "\n",
    "          Returns:\n",
    "                  model (stable_baselines3.ppo.ppo.PPO): The model to train\n",
    "  '''\n",
    "  lr, gamma  = get_hyp_values(hyperparams)\n",
    "  env = make_vec_env(env_name, n_envs=1)\n",
    "  model = PPO(policy = policy,\n",
    "              env = env,\n",
    "              learning_rate = lr,\n",
    "              n_steps = 1024,\n",
    "              batch_size = 64,\n",
    "              n_epochs = 4,\n",
    "              gamma = gamma,\n",
    "              gae_lambda = 0.98,\n",
    "              ent_coef = 0.01,\n",
    "              verbose=0)\n",
    "  \n",
    "  return model\n",
    "\n",
    "\n",
    "def train_model(model, timesteps=1000000):\n",
    "  '''\n",
    "  Trains a PPO model during a number of timesteps\n",
    "          \n",
    "          Parameters:\n",
    "                  model (stable_baselines3.ppo.ppo.PPO): The model to train\n",
    "                  timesteps (int): The number of timesteps used to train the model\n",
    "\n",
    "          Returns:\n",
    "                  None\n",
    "  '''\n",
    "  model.learn(total_timesteps=timesteps)\n",
    "  return\n",
    "\n",
    "\n",
    "def evaluate_model(model, \n",
    "                   rl_env_name='LunarLander-v2', \n",
    "                   n_eval_episodes=25):\n",
    "  '''\n",
    "  Evaluates the model for a number of episodes in a specified environment, this environment MUST be the same as the one the model has been trained in.\n",
    "\n",
    "          Parameters:\n",
    "                  model (stable_baselines3.ppo.ppo.PPO): The model to train\n",
    "                  rl_env_name (str): The name of the gym environment where the model has been trained\n",
    "                  n_eval_episodes (int): The number of episodes for which the model will be evaluated to obtain a mean and standard deviation\n",
    "\n",
    "          Returns:\n",
    "                  lower_mean_reward (float): A tensor of size 1x1 (1 row, 1 column) containing the mean_reward\n",
    "  '''\n",
    "  eval_env = gym.make(rl_env_name)\n",
    "  mean_reward, std_reward = evaluate_policy(model, \n",
    "                                            eval_env, \n",
    "                                            n_eval_episodes=n_eval_episodes, \n",
    "                                            deterministic=True)\n",
    "  \n",
    "  print(f\"mean_reward={mean_reward:.2f} +/- {std_reward}\")\n",
    "  lower_mean_reward = mean_reward - std_reward\n",
    "  return lower_mean_reward\n",
    "\n",
    "\n",
    "def target_function(hyperparams, \n",
    "                    timesteps=1000000,\n",
    "                    rl_env_name='LunarLander-v2'):\n",
    "  '''\n",
    "  Given a hyperparameter configuration, evaluates their performance\n",
    "          Parameters:\n",
    "                  hyperparams (torch.DoubleTensor): A tensor of size 1x2 (1 row, n columns) with the learning rate and gamma to train the model with\n",
    "                  timesteps (int): timesteps (int): The number of timesteps used to train the model\n",
    "                  rl_env_name (str): The name of the gym environment where the model has been trained\n",
    "\n",
    "          Returns:\n",
    "                  lower_mean_reward (float): A tensor of size 1x1 (1 row, 1 column) containing the mean_reward\n",
    "  '''\n",
    "  model = create_model(hyperparams, env_name=rl_env_name)\n",
    "  \n",
    "  train_model(model, \n",
    "              timesteps)\n",
    "  \n",
    "  lower_mean_reward = evaluate_model(model, \n",
    "                                     rl_env_name)\n",
    "  \n",
    "  return lower_mean_reward\n"
   ]
  },
  {
   "cell_type": "markdown",
   "metadata": {
    "id": "zjdeNdB_jJPj"
   },
   "source": [
    "# Step 4: Define hyperparameters to tune\n",
    "First define the bounds"
   ]
  },
  {
   "cell_type": "code",
   "execution_count": 3,
   "metadata": {
    "id": "WXwDQp5oilS4"
   },
   "outputs": [],
   "source": [
    "lr = 0.05\n",
    "gamma = 0.85\n",
    "# Define here the list of parameters to tune\n",
    "hyperparams_list = [lr, gamma]\n",
    "# Define the lower bounds of the parameters\n",
    "lower_bounds = [0.0001, 0.8]\n",
    "# Define the upper bounds of the parameters\n",
    "upper_bounds = [0.1, 0.9997]"
   ]
  },
  {
   "cell_type": "markdown",
   "metadata": {
    "id": "9ILw3cqAjkbg"
   },
   "source": [
    "Then convert lists to tensors"
   ]
  },
  {
   "cell_type": "code",
   "execution_count": 4,
   "metadata": {
    "id": "PnU1DMG8jnuc"
   },
   "outputs": [],
   "source": [
    "# Create tensors with the hyperparameters configurations and bounds for BOTorch to use\n",
    "hyperparams_tensor = torch.DoubleTensor([hyperparams_list])\n",
    "bounds_tensor = torch.DoubleTensor([lower_bounds, upper_bounds])"
   ]
  },
  {
   "cell_type": "markdown",
   "metadata": {
    "id": "igatCqADkIjz"
   },
   "source": [
    "# Step 5: Define functions needed for the Bayesian Optimization Loop"
   ]
  },
  {
   "cell_type": "code",
   "execution_count": 5,
   "metadata": {
    "id": "VYL5gMk_kK7m"
   },
   "outputs": [],
   "source": [
    "def generate_initial_data(bounds, \n",
    "                          n=3):\n",
    "  '''\n",
    "  Gets n values of the hyperparameter's bounded space and evaluates them\n",
    "          Parameters:\n",
    "                bounds (torch.DoubleTensor): The torch tensor containing the upper and lower bounds of the hyperparameters (lr and gamma in this case)\n",
    "                n (int): The number of initial points to get. Default is 3\n",
    "          \n",
    "          Returns:\n",
    "                train_x (torch.DoubleTensor): A tensor of size (n, 1) (n rows and 1 column) with the initial points\n",
    "                exact_obj (torch.DoubleTensor): A tensor of size (n, 1) (n rows and 1 column) containing the evaluation of the model with the sampled hyperparameters values\n",
    "                best_observed_vale: The best evaluation of the hyperparameters\n",
    "  '''\n",
    "  # Create our initial hyperparameter values\n",
    "  lower_bounds = bounds[0]\n",
    "  upper_bounds = bounds[1]\n",
    "  train_x = torch.rand(n, len(lower_bounds), dtype=torch.double) * (upper_bounds - lower_bounds) + lower_bounds\n",
    "\n",
    "  # Evaluate them and store them in a torch.Tensor\n",
    "  exact_obj = torch.tensor([[target_function(hyp)] for hyp in train_x])\n",
    "\n",
    "  # Get the best observed value\n",
    "  best_observed_value = exact_obj.max().item()\n",
    "  \n",
    "  return train_x, exact_obj, best_observed_value"
   ]
  },
  {
   "cell_type": "code",
   "execution_count": 6,
   "metadata": {
    "id": "1MUKzEZkmAxw"
   },
   "outputs": [],
   "source": [
    "from botorch.acquisition.analytic import ExpectedImprovement, UpperConfidenceBound\n",
    "from botorch.optim import optimize_acqf\n",
    "from botorch.utils.transforms import standardize, normalize, unnormalize\n",
    "from botorch.models import SingleTaskGP\n",
    "from gpytorch.mlls.exact_marginal_log_likelihood import ExactMarginalLogLikelihood\n",
    "from botorch import fit_gpytorch_model\n",
    "  \n",
    "\n",
    "def get_next_points(init_x,\n",
    "                    init_y,\n",
    "                    best_init_y,\n",
    "                    normalized_bounds,\n",
    "                    n_points=1):\n",
    "  '''\n",
    "  Function that computes the next point to add to the Gaussian Process and visualizes the acquisition function and function distribution\n",
    "          Parameters:\n",
    "                  init_x (torch.Tensor): A tensor of shape {iterations}x2 containing the previous hyperparameters\n",
    "                  init_y (torch.Tensor): A tensor of shape {iterations}x1 containing the previous rewards of the models trained with the init_x hyperparameters values\n",
    "                  best_init_y (float): Best reward obtained until the moment\n",
    "                  normalized_bounds (torch.Tensor): Normalized bounds of the hyperparameter values in the form of tensors of shape 2x1 (2 rows, 1 column), first row containing lower bound, second containing upper bound\n",
    "                  n_points (int): Number of candidates to obtain for the next iteration. Default is 1\n",
    "\n",
    "          Returns:\n",
    "                  candidates (torch.Tensor): A tensor of shape 1x2 containing the value of the hyperparameters that optimizes the acquisition function\n",
    "  '''\n",
    "  # Create our probabilistic model with the points\n",
    "  single_model = SingleTaskGP(init_x, init_y)\n",
    "  mll = ExactMarginalLogLikelihood(single_model.likelihood, \n",
    "                                   single_model)\n",
    "  # Fit our model\n",
    "  fit_gpytorch_model(mll)\n",
    "\n",
    "  # Instantiate the acquisition function given our model\n",
    "  UCB = UpperConfidenceBound(model=single_model,\n",
    "                             beta=0.2,\n",
    "                             maximize=True)\n",
    "  \n",
    "  # Maximize the acquisition function to obtain our candidates \n",
    "  candidates, _ = optimize_acqf(acq_function=UCB, \n",
    "                                bounds=normalized_bounds,\n",
    "                                q=n_points, num_restarts=200,\n",
    "                                raw_samples=512,\n",
    "                                options={\"batch_limit\": 5, \"maxiter\": 200})\n",
    "\n",
    "  return candidates"
   ]
  },
  {
   "cell_type": "markdown",
   "metadata": {
    "id": "E038wSN_MFoQ"
   },
   "source": [
    "# Step 6: Set experiments' configuration"
   ]
  },
  {
   "cell_type": "markdown",
   "metadata": {
    "id": "DWEEF07XuQPj"
   },
   "source": [
    "First let us define functions to save and load checkpoints"
   ]
  },
  {
   "cell_type": "code",
   "execution_count": 7,
   "metadata": {
    "id": "8sde3AjauPiS"
   },
   "outputs": [],
   "source": [
    "import itertools\n",
    "def create_experiment_df():\n",
    "  '''\n",
    "  Creates an empty dataframe to save checkpoints\n",
    "          Parameters:\n",
    "\n",
    "          Returns:\n",
    "                  experiment_df (pandas.DataFrame): An empty Dataframe with columns specified below that will be used to save the experiment history\n",
    "  '''\n",
    "  columns = [\"method\",\n",
    "             \"experiment\",\n",
    "             \"iteration\",\n",
    "             \"learning_rate\",\n",
    "             \"gamma\",\n",
    "             \"reward_lower_bound\",\n",
    "             \"best_learning_rate\",\n",
    "             \"best_gamma\",\n",
    "             \"best_reward_lower_bound\"\n",
    "             ]\n",
    "\n",
    "  experiment_df = pd.DataFrame(columns=columns)\n",
    "  return experiment_df\n",
    "\n",
    "\n",
    "def get_filepath(experiment_name):\n",
    "  '''\n",
    "  Returns the path of the csv of the experiment specified.\n",
    "          Parameters:\n",
    "                  experiment_name (string): The name of the experiment\n",
    "\n",
    "          Returns:\n",
    "                  filepath (string): The path to the .csv file that has the data of the experiment\n",
    "  '''\n",
    "  filepath = f\"./experiments_results/{experiment_name}.csv\"\n",
    "  return filepath\n",
    "\n",
    "\n",
    "def update_experiment_history(method, \n",
    "                              experiment_number, \n",
    "                              iteration,\n",
    "                              lr,\n",
    "                              gamma,\n",
    "                              reward_lower_bound,\n",
    "                              best_lr,\n",
    "                              best_gamma,\n",
    "                              best_reward_lower_bound,\n",
    "                              experiment_df,\n",
    "                              experiment_name):\n",
    "  '''\n",
    "  Updates the experiment dataframe and saves it in GDrive\n",
    "          Parameters:\n",
    "                  method (int): 0 if Bayesian Optimization, 1 if Random Search\n",
    "                  experiment_number (int): The id of the experiment\n",
    "                  iteration (int): The current iteration of the experiment\n",
    "                  lr (float): The learning rate value selected for this iteration\n",
    "                  gamma (float): The gamma value selected for this iteration\n",
    "                  reward_lower_bound (float): The reward's lower bound obtained by the model trained this iteration\n",
    "                  best_lr (float): The learning rate value that has induced the best reward lower bound\n",
    "                  best_gamma (float): The gamma value that has induced the best reward lower bound\n",
    "                  best_reward_lower_bound (float): The best reward lower bound obtained until this iteration\n",
    "                  experiment_df (pandas.DataFrame): The dataframe containing the experiments history\n",
    "                  experiment_name (string): The name of the experiment\n",
    "\n",
    "          Returns:\n",
    "                  concatenated_df (pandas.DataFrame): The updated experiments history dataframe\n",
    "  '''\n",
    "  # Define the columns of the dataframe\n",
    "  columns = [\"method\",\n",
    "             \"experiment\",\n",
    "             \"iteration\",\n",
    "             \"learning_rate\",\n",
    "             \"gamma\",\n",
    "             \"reward_lower_bound\",\n",
    "             \"best_learning_rate\",\n",
    "             \"best_gamma\",\n",
    "             \"best_reward_lower_bound\"]\n",
    "\n",
    "  # Set the values of the columns given by the iteration configuration and result\n",
    "  iteration_results = [[method,\n",
    "                        experiment_number,\n",
    "                        iteration,\n",
    "                        lr,\n",
    "                        gamma,\n",
    "                        reward_lower_bound,\n",
    "                        best_lr,\n",
    "                        best_gamma,\n",
    "                        best_reward_lower_bound]]\n",
    "\n",
    "  # Create a one row dataframe for this experiment\n",
    "  new_iteration_df = pd.DataFrame(iteration_results, columns=columns)\n",
    "\n",
    "  # Concatenate the experiments history with this experiment's results\n",
    "  concatenated_df = pd.concat([experiment_df, new_iteration_df], ignore_index=True)\n",
    "\n",
    "  # Save the updated history in google drive\n",
    "  save_checkpoint(concatenated_df,\n",
    "                  experiment_name)\n",
    "  \n",
    "  # Return the concatenated dataframe representing the updated experiment history\n",
    "  return concatenated_df\n",
    "\n",
    "\n",
    "def save_checkpoint(experiment_df,\n",
    "                    experiment_name):\n",
    "  '''\n",
    "  Saves the experiments history dataframe in google drive\n",
    "          Parameters:\n",
    "                  experiment_df (pandas.DataFrame): The dataframe containing the experiments history\n",
    "                  experiment_name (string): The name of the experiment\n",
    "          \n",
    "          Returns:\n",
    "                  None\n",
    "  '''\n",
    "\n",
    "  filepath = get_filepath(experiment_name)\n",
    "  experiment_df.to_csv(filepath, index=False)\n",
    "\n",
    "\n",
    "def load_checkpoint(experiment_name,\n",
    "                    experiment_results,\n",
    "                    experiment_configurations):\n",
    "  '''\n",
    "  Loads a checkpoint of an experiment given its name\n",
    "\n",
    "          Parameters:\n",
    "                  experiment_name (string): The name of the experiment\n",
    "                  experiment_results (numpy.array): A numpy array of three dimensions (method, iteration, best_result)\n",
    "                  expeirment_configuration (numpy.array): A numpy array of three dimensions (method, iteration, best_learning rate)\n",
    "\n",
    "          Returns:\n",
    "                  experiment_df (pandas.DataFrame): A dataframe with the experiment history\n",
    "  '''\n",
    "  # First we retrieve the dataframe from GDrive\n",
    "  filepath = get_filepath(experiment_name)\n",
    "  experiment_df = pd.read_csv(filepath)\n",
    "\n",
    "  # Now we iterate through the rows of the dataframe to update the experiment history numpy arrays that we will use later to compare the methods and plot results\n",
    "  for index, row in experiment_df.iterrows():\n",
    "      # Unpack the columns\n",
    "      method, exp, iter, lr, gamma, rlb, best_lr, best_gamma, best_rlb = row.values\n",
    "      # Add them to the experiments arrays\n",
    "      experiment_results[int(method)][int(exp)][int(iter)] = best_rlb\n",
    "      experiment_configurations[int(method)][int(exp)][int(iter)][0] = best_lr\n",
    "      experiment_configurations[int(method)][int(exp)][int(iter)][1] = best_gamma\n",
    "  \n",
    "\n",
    "  method, exp, iter, lr, gamma, rlb, best_lr, best_gamma, best_rlb = experiment_df.iloc[-1]\n",
    "\n",
    "  if method == 0:\n",
    "    bo_done = False\n",
    "    last_bo_experiment = int(exp)\n",
    "    last_rs_experiment = 0\n",
    "\n",
    "    # Plus one because we want to start in the next one\n",
    "    last_bo_iteration = int(iter)+1\n",
    "    last_rs_iteration = 1\n",
    "\n",
    "  else:\n",
    "    bo_done = True\n",
    "    last_bo_experiment = experiment_configurations.shape[1]-1\n",
    "    last_rs_experiment = int(exp)\n",
    "\n",
    "    # Plus one because we want to start in the next one\n",
    "    last_bo_iteration = experiment_configurations.shape[2]-1\n",
    "    last_rs_iteration = int(iter)+1\n",
    "\n",
    "  # Now lets get the initial data\n",
    "  bo_experiment_df = experiment_df[(experiment_df[\"method\"]==method) & (experiment_df[\"experiment\"]==int(exp))]\n",
    "\n",
    "  init_x = torch.DoubleTensor([[float(lr), float(gamma)] for (lr, gamma) in zip(bo_experiment_df.learning_rate.values, bo_experiment_df.gamma.values)])\n",
    "\n",
    "  init_y = torch.DoubleTensor([[float(reward)] for reward in bo_experiment_df.reward_lower_bound.values])\n",
    "  best_init_y = init_y.max().item()\n",
    "\n",
    "  rs_experiment_df = experiment_df[experiment_df[\"method\"]==0]\n",
    "  if rs_experiment_df.empty:\n",
    "      best_rs_lr = 0\n",
    "      best_rs_gamma = 0\n",
    "      best_rs_r = 0\n",
    "  else:\n",
    "      best_rs_lr = rs_experiment_df.iloc[-1][\"best_learning_rate\"]\n",
    "      best_rs_gamma = rs_experiment_df.iloc[-1][\"best_gamma\"]\n",
    "      best_rs_r = rs_experiment_df.iloc[-1][\"best_reward_lower_bound\"]\n",
    "             \n",
    "  return experiment_df, last_bo_experiment, last_rs_experiment, last_bo_iteration, last_rs_iteration, init_x, init_y, best_init_y, best_rs_lr, best_rs_gamma, best_rs_r, bo_done"
   ]
  },
  {
   "cell_type": "markdown",
   "metadata": {
    "id": "0AChh4uxu6lk"
   },
   "source": [
    "Now let's set the configuration for the experiments"
   ]
  },
  {
   "cell_type": "code",
   "execution_count": 8,
   "metadata": {
    "id": "FF5-qYTvN2zZ"
   },
   "outputs": [],
   "source": [
    "import numpy as np\n",
    "# The name of the file (WITHOUT EXTENSION) where the history of experiments will be saved\n",
    "experiment_name = \"lunar_lander_learning_rate_gamma\"\n",
    "# If true, this will look for the experiment history .csv in google drive and continue from there\n",
    "continue_from_checkpoint = True\n",
    "\n",
    "# Number of experiments per method\n",
    "n_experiments = 8\n",
    "\n",
    "# Number of iterations per experiment after the first random point being evaluated\n",
    "n_iterations = 25\n",
    "\n",
    "# Number of methods\n",
    "n_methods = 2\n",
    "\n",
    "# Index of Bayesian Optimization method\n",
    "bo_method = 0\n",
    "\n",
    "# Index of Random Search method\n",
    "rs_method = 1\n",
    "\n",
    "# Number of Hyperparameters\n",
    "n_hyperparameters = 2\n",
    "\n",
    "# Arrays containing the results and configurations of experiments\n",
    "experiment_results = np.zeros((n_methods, n_experiments, n_iterations+1))\n",
    "experiment_configurations = np.zeros((n_methods, n_experiments, n_iterations+1, len(bounds_tensor[0])))\n",
    "\n",
    "# Now load checkpoint if necessary\n",
    "if continue_from_checkpoint:\n",
    "  experiment_df, last_bo_experiment, last_rs_experiment, last_bo_iteration, last_rs_iteration, init_x, init_y, best_init_y, best_observed_lr_rs, best_observed_gamma_rs, best_observed_result_rs, bo_done = load_checkpoint(experiment_name,\n",
    "                                            experiment_results,\n",
    "                                            experiment_configurations) \n",
    "else: \n",
    "  experiment_df = create_experiment_df()\n",
    "  \n",
    "  save_checkpoint(experiment_df, \n",
    "                  experiment_name)\n",
    "\n",
    "  \n",
    "  "
   ]
  },
  {
   "cell_type": "markdown",
   "metadata": {
    "id": "dHTBIpJSQJVZ"
   },
   "source": [
    "First we try the bayesian optimization method"
   ]
  },
  {
   "cell_type": "code",
   "execution_count": 9,
   "metadata": {
    "colab": {
     "base_uri": "https://localhost:8080/"
    },
    "id": "6jScxWwkmzEr",
    "outputId": "96830da6-8047-4f36-ad5d-d54acfde7d84"
   },
   "outputs": [
    {
     "name": "stdout",
     "output_type": "stream",
     "text": [
      "EXPERIMENT 0\n"
     ]
    },
    {
     "name": "stderr",
     "output_type": "stream",
     "text": [
      "/tmp/ipykernel_4455/2291881894.py:18: UserWarning: Creating a tensor from a list of numpy.ndarrays is extremely slow. Please consider converting the list to a single numpy.ndarray with numpy.array() before converting to a tensor. (Triggered internally at ../torch/csrc/utils/tensor_new.cpp:245.)\n",
      "  normalized_bounds = torch.tensor([np.zeros(len(bounds_tensor[0])), np.ones(len(bounds_tensor[0]))])\n",
      "/home/daniel/miniconda3/envs/bo-drl-2hp-env/lib/python3.10/site-packages/stable_baselines3/common/evaluation.py:67: UserWarning: Evaluation environment is not wrapped with a ``Monitor`` wrapper. This may result in reporting modified episode lengths and rewards, if other wrappers happen to modify these. Consider wrapping environment first with ``Monitor`` wrapper.\n",
      "  warnings.warn(\n"
     ]
    },
    {
     "name": "stdout",
     "output_type": "stream",
     "text": [
      "mean_reward=88.70 +/- 159.1700942739264\n",
      "Number of iteration: 23\n",
      "  - Unnormalized learning rate: 0.0001\n",
      "  - Normalized learning rate: 0.0\n",
      "  - Unnormalized gamma: 0.8254416074353597\n",
      "  - Normalized gamma: 0.127399135880619\n",
      "  - Unstandardized lower reward bound: -70.47178878281294\n",
      "  - Standardized lower reward bound: 0.10413942405345127\n",
      "Best point performs this way: 71.4938569614059\n",
      "----------------------\n"
     ]
    },
    {
     "name": "stderr",
     "output_type": "stream",
     "text": [
      "/home/daniel/miniconda3/envs/bo-drl-2hp-env/lib/python3.10/site-packages/stable_baselines3/common/evaluation.py:67: UserWarning: Evaluation environment is not wrapped with a ``Monitor`` wrapper. This may result in reporting modified episode lengths and rewards, if other wrappers happen to modify these. Consider wrapping environment first with ``Monitor`` wrapper.\n",
      "  warnings.warn(\n"
     ]
    },
    {
     "name": "stdout",
     "output_type": "stream",
     "text": [
      "mean_reward=165.96 +/- 101.8550730927684\n",
      "Number of iteration: 24\n",
      "  - Unnormalized learning rate: 0.0001\n",
      "  - Normalized learning rate: 0.0\n",
      "  - Unnormalized gamma: 0.8248961868291992\n",
      "  - Normalized gamma: 0.12466793605007095\n",
      "  - Unstandardized lower reward bound: 64.10955747773416\n",
      "  - Standardized lower reward bound: 0.5733472417999331\n",
      "Best point performs this way: 71.4938569614059\n",
      "----------------------\n"
     ]
    },
    {
     "name": "stderr",
     "output_type": "stream",
     "text": [
      "/home/daniel/miniconda3/envs/bo-drl-2hp-env/lib/python3.10/site-packages/stable_baselines3/common/evaluation.py:67: UserWarning: Evaluation environment is not wrapped with a ``Monitor`` wrapper. This may result in reporting modified episode lengths and rewards, if other wrappers happen to modify these. Consider wrapping environment first with ``Monitor`` wrapper.\n",
      "  warnings.warn(\n"
     ]
    },
    {
     "name": "stdout",
     "output_type": "stream",
     "text": [
      "mean_reward=94.26 +/- 149.6820199119093\n",
      "Number of iteration: 25\n",
      "  - Unnormalized learning rate: 0.0001\n",
      "  - Normalized learning rate: 0.0\n",
      "  - Unnormalized gamma: 0.8239764560226918\n",
      "  - Normalized gamma: 0.12006237367396957\n",
      "  - Unstandardized lower reward bound: -55.42140963647461\n",
      "  - Standardized lower reward bound: 0.13410887787898326\n",
      "Best point performs this way: 71.4938569614059\n",
      "----------------------\n",
      "EXPERIMENT 1\n",
      "mean_reward=-880.30 +/- 595.1900863464616\n"
     ]
    },
    {
     "name": "stderr",
     "output_type": "stream",
     "text": [
      "/home/daniel/miniconda3/envs/bo-drl-2hp-env/lib/python3.10/site-packages/stable_baselines3/common/evaluation.py:67: UserWarning: Evaluation environment is not wrapped with a ``Monitor`` wrapper. This may result in reporting modified episode lengths and rewards, if other wrappers happen to modify these. Consider wrapping environment first with ``Monitor`` wrapper.\n",
      "  warnings.warn(\n"
     ]
    },
    {
     "name": "stdout",
     "output_type": "stream",
     "text": [
      "mean_reward=-589.34 +/- 164.74507142012615\n",
      "Number of iteration: 1\n",
      "  - Unnormalized learning rate: 0.1\n",
      "  - Normalized learning rate: 1.0\n",
      "  - Unnormalized gamma: 0.9997\n",
      "  - Normalized gamma: 1.0\n",
      "  - Unstandardized lower reward bound: -754.0824210971375\n",
      "  - Standardized lower reward bound: 0.7071067811865476\n",
      "Best point performs this way: -754.0824210971375\n",
      "----------------------\n"
     ]
    },
    {
     "name": "stderr",
     "output_type": "stream",
     "text": [
      "/home/daniel/miniconda3/envs/bo-drl-2hp-env/lib/python3.10/site-packages/stable_baselines3/common/evaluation.py:67: UserWarning: Evaluation environment is not wrapped with a ``Monitor`` wrapper. This may result in reporting modified episode lengths and rewards, if other wrappers happen to modify these. Consider wrapping environment first with ``Monitor`` wrapper.\n",
      "  warnings.warn(\n"
     ]
    },
    {
     "name": "stdout",
     "output_type": "stream",
     "text": [
      "mean_reward=-530.37 +/- 139.06535929919463\n",
      "Number of iteration: 2\n",
      "  - Unnormalized learning rate: 0.0813067633005294\n",
      "  - Normalized learning rate: 0.8128805135188127\n",
      "  - Unnormalized gamma: 0.9997\n",
      "  - Normalized gamma: 1.0\n",
      "  - Unstandardized lower reward bound: -669.4355399149331\n",
      "  - Standardized lower reward bound: 0.6702546301617638\n",
      "Best point performs this way: -669.4355399149331\n",
      "----------------------\n"
     ]
    },
    {
     "name": "stderr",
     "output_type": "stream",
     "text": [
      "/home/daniel/miniconda3/envs/bo-drl-2hp-env/lib/python3.10/site-packages/stable_baselines3/common/evaluation.py:67: UserWarning: Evaluation environment is not wrapped with a ``Monitor`` wrapper. This may result in reporting modified episode lengths and rewards, if other wrappers happen to modify these. Consider wrapping environment first with ``Monitor`` wrapper.\n",
      "  warnings.warn(\n"
     ]
    },
    {
     "name": "stdout",
     "output_type": "stream",
     "text": [
      "mean_reward=-932.58 +/- 555.4863947828732\n",
      "Number of iteration: 3\n",
      "  - Unnormalized learning rate: 0.06836134669773207\n",
      "  - Normalized learning rate: 0.6832967637410617\n",
      "  - Unnormalized gamma: 0.9997\n",
      "  - Normalized gamma: 1.0\n",
      "  - Unstandardized lower reward bound: -1488.0650537356605\n",
      "  - Standardized lower reward bound: -0.8774660405934416\n",
      "Best point performs this way: -669.4355399149331\n",
      "----------------------\n"
     ]
    },
    {
     "name": "stderr",
     "output_type": "stream",
     "text": [
      "/home/daniel/miniconda3/envs/bo-drl-2hp-env/lib/python3.10/site-packages/stable_baselines3/common/evaluation.py:67: UserWarning: Evaluation environment is not wrapped with a ``Monitor`` wrapper. This may result in reporting modified episode lengths and rewards, if other wrappers happen to modify these. Consider wrapping environment first with ``Monitor`` wrapper.\n",
      "  warnings.warn(\n"
     ]
    },
    {
     "name": "stdout",
     "output_type": "stream",
     "text": [
      "mean_reward=-977.24 +/- 706.7291168336257\n",
      "Number of iteration: 4\n",
      "  - Unnormalized learning rate: 0.1\n",
      "  - Normalized learning rate: 1.0\n",
      "  - Unnormalized gamma: 0.9997\n",
      "  - Normalized gamma: 1.0\n",
      "  - Unstandardized lower reward bound: -1683.970766136913\n",
      "  - Standardized lower reward bound: -1.0058703756327854\n",
      "Best point performs this way: -669.4355399149331\n",
      "----------------------\n"
     ]
    },
    {
     "name": "stderr",
     "output_type": "stream",
     "text": [
      "/home/daniel/miniconda3/envs/bo-drl-2hp-env/lib/python3.10/site-packages/stable_baselines3/common/evaluation.py:67: UserWarning: Evaluation environment is not wrapped with a ``Monitor`` wrapper. This may result in reporting modified episode lengths and rewards, if other wrappers happen to modify these. Consider wrapping environment first with ``Monitor`` wrapper.\n",
      "  warnings.warn(\n"
     ]
    },
    {
     "name": "stdout",
     "output_type": "stream",
     "text": [
      "mean_reward=-146.71 +/- 45.453145289753515\n",
      "Number of iteration: 5\n",
      "  - Unnormalized learning rate: 0.08860820543739298\n",
      "  - Normalized learning rate: 0.885968022396326\n",
      "  - Unnormalized gamma: 0.9585575764261621\n",
      "  - Normalized gamma: 0.7939788504064199\n",
      "  - Unstandardized lower reward bound: -192.16694006694195\n",
      "  - Standardized lower reward bound: 1.4425636284232295\n",
      "Best point performs this way: -192.16694006694195\n",
      "----------------------\n"
     ]
    },
    {
     "name": "stderr",
     "output_type": "stream",
     "text": [
      "/home/daniel/miniconda3/envs/bo-drl-2hp-env/lib/python3.10/site-packages/stable_baselines3/common/evaluation.py:67: UserWarning: Evaluation environment is not wrapped with a ``Monitor`` wrapper. This may result in reporting modified episode lengths and rewards, if other wrappers happen to modify these. Consider wrapping environment first with ``Monitor`` wrapper.\n",
      "  warnings.warn(\n"
     ]
    },
    {
     "name": "stdout",
     "output_type": "stream",
     "text": [
      "mean_reward=-619.01 +/- 159.90244372275825\n",
      "Number of iteration: 6\n",
      "  - Unnormalized learning rate: 0.08958184977074156\n",
      "  - Normalized learning rate: 0.8957142119193349\n",
      "  - Unnormalized gamma: 0.9365284967921148\n",
      "  - Normalized gamma: 0.6836679859394833\n",
      "  - Unstandardized lower reward bound: -778.9076816869614\n",
      "  - Standardized lower reward bound: 0.41428754132590284\n",
      "Best point performs this way: -192.16694006694195\n",
      "----------------------\n"
     ]
    },
    {
     "name": "stderr",
     "output_type": "stream",
     "text": [
      "/home/daniel/miniconda3/envs/bo-drl-2hp-env/lib/python3.10/site-packages/stable_baselines3/common/evaluation.py:67: UserWarning: Evaluation environment is not wrapped with a ``Monitor`` wrapper. This may result in reporting modified episode lengths and rewards, if other wrappers happen to modify these. Consider wrapping environment first with ``Monitor`` wrapper.\n",
      "  warnings.warn(\n"
     ]
    },
    {
     "name": "stdout",
     "output_type": "stream",
     "text": [
      "mean_reward=-578.95 +/- 151.4984887182233\n",
      "Number of iteration: 7\n",
      "  - Unnormalized learning rate: 0.08865968490659767\n",
      "  - Normalized learning rate: 0.8864833323983751\n",
      "  - Unnormalized gamma: 0.9418669662468696\n",
      "  - Normalized gamma: 0.7104004318821711\n",
      "  - Unstandardized lower reward bound: -730.4475492675494\n",
      "  - Standardized lower reward bound: 0.46657487525845664\n",
      "Best point performs this way: -192.16694006694195\n",
      "----------------------\n"
     ]
    },
    {
     "name": "stderr",
     "output_type": "stream",
     "text": [
      "/home/daniel/miniconda3/envs/bo-drl-2hp-env/lib/python3.10/site-packages/stable_baselines3/common/evaluation.py:67: UserWarning: Evaluation environment is not wrapped with a ``Monitor`` wrapper. This may result in reporting modified episode lengths and rewards, if other wrappers happen to modify these. Consider wrapping environment first with ``Monitor`` wrapper.\n",
      "  warnings.warn(\n"
     ]
    },
    {
     "name": "stdout",
     "output_type": "stream",
     "text": [
      "mean_reward=-134.08 +/- 34.35411606515314\n",
      "Number of iteration: 8\n",
      "  - Unnormalized learning rate: 0.08787743109428045\n",
      "  - Normalized learning rate: 0.8786529639067111\n",
      "  - Unnormalized gamma: 0.9453350223695032\n",
      "  - Normalized gamma: 0.7277667619905017\n",
      "  - Unstandardized lower reward bound: -168.4312190983592\n",
      "  - Standardized lower reward bound: 1.2919069857090233\n",
      "Best point performs this way: -168.4312190983592\n",
      "----------------------\n"
     ]
    },
    {
     "name": "stderr",
     "output_type": "stream",
     "text": [
      "/home/daniel/miniconda3/envs/bo-drl-2hp-env/lib/python3.10/site-packages/stable_baselines3/common/evaluation.py:67: UserWarning: Evaluation environment is not wrapped with a ``Monitor`` wrapper. This may result in reporting modified episode lengths and rewards, if other wrappers happen to modify these. Consider wrapping environment first with ``Monitor`` wrapper.\n",
      "  warnings.warn(\n"
     ]
    },
    {
     "name": "stdout",
     "output_type": "stream",
     "text": [
      "mean_reward=-637.25 +/- 200.07124994508553\n",
      "Number of iteration: 9\n",
      "  - Unnormalized learning rate: 0.08566896998028938\n",
      "  - Normalized learning rate: 0.8565462460489426\n",
      "  - Unnormalized gamma: 0.9484827579187765\n",
      "  - Normalized gamma: 0.74352908321871\n",
      "  - Unstandardized lower reward bound: -837.3226418363265\n",
      "  - Standardized lower reward bound: 0.07772479052291516\n",
      "Best point performs this way: -168.4312190983592\n",
      "----------------------\n"
     ]
    },
    {
     "name": "stderr",
     "output_type": "stream",
     "text": [
      "/home/daniel/miniconda3/envs/bo-drl-2hp-env/lib/python3.10/site-packages/stable_baselines3/common/evaluation.py:67: UserWarning: Evaluation environment is not wrapped with a ``Monitor`` wrapper. This may result in reporting modified episode lengths and rewards, if other wrappers happen to modify these. Consider wrapping environment first with ``Monitor`` wrapper.\n",
      "  warnings.warn(\n"
     ]
    },
    {
     "name": "stdout",
     "output_type": "stream",
     "text": [
      "mean_reward=-573.38 +/- 173.9107907976558\n",
      "Number of iteration: 10\n",
      "  - Unnormalized learning rate: 0.0890062881378286\n",
      "  - Normalized learning rate: 0.8899528342124985\n",
      "  - Unnormalized gamma: 0.9460489339048939\n",
      "  - Normalized gamma: 0.7313416820475404\n",
      "  - Unstandardized lower reward bound: -747.2885159646369\n",
      "  - Standardized lower reward bound: 0.2392631359699178\n",
      "Best point performs this way: -168.4312190983592\n",
      "----------------------\n"
     ]
    },
    {
     "name": "stderr",
     "output_type": "stream",
     "text": [
      "/home/daniel/miniconda3/envs/bo-drl-2hp-env/lib/python3.10/site-packages/stable_baselines3/common/evaluation.py:67: UserWarning: Evaluation environment is not wrapped with a ``Monitor`` wrapper. This may result in reporting modified episode lengths and rewards, if other wrappers happen to modify these. Consider wrapping environment first with ``Monitor`` wrapper.\n",
      "  warnings.warn(\n"
     ]
    },
    {
     "name": "stdout",
     "output_type": "stream",
     "text": [
      "mean_reward=-620.37 +/- 201.73896357668698\n",
      "Number of iteration: 11\n",
      "  - Unnormalized learning rate: 0.08696603319183766\n",
      "  - Normalized learning rate: 0.8695298617801567\n",
      "  - Unnormalized gamma: 0.9524769955023501\n",
      "  - Normalized gamma: 0.7635302729211322\n",
      "  - Unstandardized lower reward bound: -822.1116474089971\n",
      "  - Standardized lower reward bound: 0.0849690769492545\n",
      "Best point performs this way: -168.4312190983592\n",
      "----------------------\n"
     ]
    },
    {
     "name": "stderr",
     "output_type": "stream",
     "text": [
      "/home/daniel/miniconda3/envs/bo-drl-2hp-env/lib/python3.10/site-packages/stable_baselines3/common/evaluation.py:67: UserWarning: Evaluation environment is not wrapped with a ``Monitor`` wrapper. This may result in reporting modified episode lengths and rewards, if other wrappers happen to modify these. Consider wrapping environment first with ``Monitor`` wrapper.\n",
      "  warnings.warn(\n"
     ]
    },
    {
     "name": "stdout",
     "output_type": "stream",
     "text": [
      "mean_reward=-126.35 +/- 59.15526556491232\n",
      "Number of iteration: 12\n",
      "  - Unnormalized learning rate: 0.08763720231238221\n",
      "  - Normalized learning rate: 0.8762482713952173\n",
      "  - Unnormalized gamma: 0.950244274113618\n",
      "  - Normalized gamma: 0.7523498954112064\n",
      "  - Unstandardized lower reward bound: -185.50746201778142\n",
      "  - Standardized lower reward bound: 1.2741860673347314\n",
      "Best point performs this way: -168.4312190983592\n",
      "----------------------\n"
     ]
    },
    {
     "name": "stderr",
     "output_type": "stream",
     "text": [
      "/home/daniel/miniconda3/envs/bo-drl-2hp-env/lib/python3.10/site-packages/stable_baselines3/common/evaluation.py:67: UserWarning: Evaluation environment is not wrapped with a ``Monitor`` wrapper. This may result in reporting modified episode lengths and rewards, if other wrappers happen to modify these. Consider wrapping environment first with ``Monitor`` wrapper.\n",
      "  warnings.warn(\n"
     ]
    },
    {
     "name": "stdout",
     "output_type": "stream",
     "text": [
      "mean_reward=-617.76 +/- 178.80038294477734\n",
      "Number of iteration: 13\n",
      "  - Unnormalized learning rate: 0.08706152330276123\n",
      "  - Normalized learning rate: 0.8704857187463587\n",
      "  - Unnormalized gamma: 0.9567161488192447\n",
      "  - Normalized gamma: 0.7847578809175999\n",
      "  - Unstandardized lower reward bound: -796.5586492769269\n",
      "  - Standardized lower reward bound: 0.02698368572025155\n",
      "Best point performs this way: -168.4312190983592\n",
      "----------------------\n"
     ]
    },
    {
     "name": "stderr",
     "output_type": "stream",
     "text": [
      "/home/daniel/miniconda3/envs/bo-drl-2hp-env/lib/python3.10/site-packages/stable_baselines3/common/evaluation.py:67: UserWarning: Evaluation environment is not wrapped with a ``Monitor`` wrapper. This may result in reporting modified episode lengths and rewards, if other wrappers happen to modify these. Consider wrapping environment first with ``Monitor`` wrapper.\n",
      "  warnings.warn(\n"
     ]
    },
    {
     "name": "stdout",
     "output_type": "stream",
     "text": [
      "mean_reward=-555.15 +/- 184.7276839758588\n",
      "Number of iteration: 14\n",
      "  - Unnormalized learning rate: 0.08760857783826566\n",
      "  - Normalized learning rate: 0.8759617401227793\n",
      "  - Unnormalized gamma: 0.9499999450154473\n",
      "  - Normalized gamma: 0.7511264146992848\n",
      "  - Unstandardized lower reward bound: -739.878574037174\n",
      "  - Standardized lower reward bound: 0.14256061288930358\n",
      "Best point performs this way: -168.4312190983592\n",
      "----------------------\n"
     ]
    },
    {
     "name": "stderr",
     "output_type": "stream",
     "text": [
      "/home/daniel/miniconda3/envs/bo-drl-2hp-env/lib/python3.10/site-packages/stable_baselines3/common/evaluation.py:67: UserWarning: Evaluation environment is not wrapped with a ``Monitor`` wrapper. This may result in reporting modified episode lengths and rewards, if other wrappers happen to modify these. Consider wrapping environment first with ``Monitor`` wrapper.\n",
      "  warnings.warn(\n"
     ]
    },
    {
     "name": "stdout",
     "output_type": "stream",
     "text": [
      "mean_reward=-135.67 +/- 27.10007740001785\n",
      "Number of iteration: 15\n",
      "  - Unnormalized learning rate: 0.08754091549302588\n",
      "  - Normalized learning rate: 0.8752844393696284\n",
      "  - Unnormalized gamma: 0.9542607862805343\n",
      "  - Normalized gamma: 0.7724626253406829\n",
      "  - Unstandardized lower reward bound: -162.76577049818482\n",
      "  - Standardized lower reward bound: 1.2877044612710873\n",
      "Best point performs this way: -162.76577049818482\n",
      "----------------------\n"
     ]
    },
    {
     "name": "stderr",
     "output_type": "stream",
     "text": [
      "/home/daniel/miniconda3/envs/bo-drl-2hp-env/lib/python3.10/site-packages/stable_baselines3/common/evaluation.py:67: UserWarning: Evaluation environment is not wrapped with a ``Monitor`` wrapper. This may result in reporting modified episode lengths and rewards, if other wrappers happen to modify these. Consider wrapping environment first with ``Monitor`` wrapper.\n",
      "  warnings.warn(\n"
     ]
    },
    {
     "name": "stdout",
     "output_type": "stream",
     "text": [
      "mean_reward=-879.09 +/- 450.7770210926018\n",
      "Number of iteration: 16\n",
      "  - Unnormalized learning rate: 0.08730242309582079\n",
      "  - Normalized learning rate: 0.872897128086294\n",
      "  - Unnormalized gamma: 0.9610985954446472\n",
      "  - Normalized gamma: 0.8067030317708922\n",
      "  - Unstandardized lower reward bound: -1329.870247336381\n",
      "  - Standardized lower reward bound: -1.1254140196572342\n",
      "Best point performs this way: -162.76577049818482\n",
      "----------------------\n"
     ]
    },
    {
     "ename": "KeyboardInterrupt",
     "evalue": "",
     "output_type": "error",
     "traceback": [
      "\u001b[0;31m---------------------------------------------------------------------------\u001b[0m",
      "\u001b[0;31mKeyboardInterrupt\u001b[0m                         Traceback (most recent call last)",
      "Cell \u001b[0;32mIn[9], line 63\u001b[0m\n\u001b[1;32m     59\u001b[0m new_candidates \u001b[38;5;241m=\u001b[39m unnormalize(normalized_new_candidates,\n\u001b[1;32m     60\u001b[0m                              bounds\u001b[38;5;241m=\u001b[39mbounds_tensor)\n\u001b[1;32m     62\u001b[0m \u001b[38;5;66;03m# Compute the performance of the model\u001b[39;00m\n\u001b[0;32m---> 63\u001b[0m new_results \u001b[38;5;241m=\u001b[39m torch\u001b[38;5;241m.\u001b[39mtensor([[\u001b[43mtarget_function\u001b[49m\u001b[43m(\u001b[49m\u001b[43mnew_candidates\u001b[49m\u001b[43m[\u001b[49m\u001b[38;5;241;43m0\u001b[39;49m\u001b[43m]\u001b[49m\u001b[43m)\u001b[49m]])\n\u001b[1;32m     65\u001b[0m \u001b[38;5;66;03m# Update our hyperparameters and rewards history\u001b[39;00m\n\u001b[1;32m     66\u001b[0m init_x \u001b[38;5;241m=\u001b[39m torch\u001b[38;5;241m.\u001b[39mcat([init_x, new_candidates])\n",
      "Cell \u001b[0;32mIn[2], line 102\u001b[0m, in \u001b[0;36mtarget_function\u001b[0;34m(hyperparams, timesteps, rl_env_name)\u001b[0m\n\u001b[1;32m     90\u001b[0m \u001b[38;5;250m\u001b[39m\u001b[38;5;124;03m'''\u001b[39;00m\n\u001b[1;32m     91\u001b[0m \u001b[38;5;124;03mGiven a hyperparameter configuration, evaluates their performance\u001b[39;00m\n\u001b[1;32m     92\u001b[0m \u001b[38;5;124;03m        Parameters:\u001b[39;00m\n\u001b[0;32m   (...)\u001b[0m\n\u001b[1;32m     98\u001b[0m \u001b[38;5;124;03m                lower_mean_reward (float): A tensor of size 1x1 (1 row, 1 column) containing the mean_reward\u001b[39;00m\n\u001b[1;32m     99\u001b[0m \u001b[38;5;124;03m'''\u001b[39;00m\n\u001b[1;32m    100\u001b[0m model \u001b[38;5;241m=\u001b[39m create_model(hyperparams, env_name\u001b[38;5;241m=\u001b[39mrl_env_name)\n\u001b[0;32m--> 102\u001b[0m \u001b[43mtrain_model\u001b[49m\u001b[43m(\u001b[49m\u001b[43mmodel\u001b[49m\u001b[43m,\u001b[49m\u001b[43m \u001b[49m\n\u001b[1;32m    103\u001b[0m \u001b[43m            \u001b[49m\u001b[43mtimesteps\u001b[49m\u001b[43m)\u001b[49m\n\u001b[1;32m    105\u001b[0m lower_mean_reward \u001b[38;5;241m=\u001b[39m evaluate_model(model, \n\u001b[1;32m    106\u001b[0m                                    rl_env_name)\n\u001b[1;32m    108\u001b[0m \u001b[38;5;28;01mreturn\u001b[39;00m lower_mean_reward\n",
      "Cell \u001b[0;32mIn[2], line 58\u001b[0m, in \u001b[0;36mtrain_model\u001b[0;34m(model, timesteps)\u001b[0m\n\u001b[1;32m     47\u001b[0m \u001b[38;5;28;01mdef\u001b[39;00m \u001b[38;5;21mtrain_model\u001b[39m(model, timesteps\u001b[38;5;241m=\u001b[39m\u001b[38;5;241m1000000\u001b[39m):\n\u001b[1;32m     48\u001b[0m \u001b[38;5;250m  \u001b[39m\u001b[38;5;124;03m'''\u001b[39;00m\n\u001b[1;32m     49\u001b[0m \u001b[38;5;124;03m  Trains a PPO model during a number of timesteps\u001b[39;00m\n\u001b[1;32m     50\u001b[0m \u001b[38;5;124;03m          \u001b[39;00m\n\u001b[0;32m   (...)\u001b[0m\n\u001b[1;32m     56\u001b[0m \u001b[38;5;124;03m                  None\u001b[39;00m\n\u001b[1;32m     57\u001b[0m \u001b[38;5;124;03m  '''\u001b[39;00m\n\u001b[0;32m---> 58\u001b[0m   \u001b[43mmodel\u001b[49m\u001b[38;5;241;43m.\u001b[39;49m\u001b[43mlearn\u001b[49m\u001b[43m(\u001b[49m\u001b[43mtotal_timesteps\u001b[49m\u001b[38;5;241;43m=\u001b[39;49m\u001b[43mtimesteps\u001b[49m\u001b[43m)\u001b[49m\n\u001b[1;32m     59\u001b[0m   \u001b[38;5;28;01mreturn\u001b[39;00m\n",
      "File \u001b[0;32m~/miniconda3/envs/bo-drl-2hp-env/lib/python3.10/site-packages/stable_baselines3/ppo/ppo.py:308\u001b[0m, in \u001b[0;36mPPO.learn\u001b[0;34m(self, total_timesteps, callback, log_interval, tb_log_name, reset_num_timesteps, progress_bar)\u001b[0m\n\u001b[1;32m    299\u001b[0m \u001b[38;5;28;01mdef\u001b[39;00m \u001b[38;5;21mlearn\u001b[39m(\n\u001b[1;32m    300\u001b[0m     \u001b[38;5;28mself\u001b[39m: SelfPPO,\n\u001b[1;32m    301\u001b[0m     total_timesteps: \u001b[38;5;28mint\u001b[39m,\n\u001b[0;32m   (...)\u001b[0m\n\u001b[1;32m    306\u001b[0m     progress_bar: \u001b[38;5;28mbool\u001b[39m \u001b[38;5;241m=\u001b[39m \u001b[38;5;28;01mFalse\u001b[39;00m,\n\u001b[1;32m    307\u001b[0m ) \u001b[38;5;241m-\u001b[39m\u001b[38;5;241m>\u001b[39m SelfPPO:\n\u001b[0;32m--> 308\u001b[0m     \u001b[38;5;28;01mreturn\u001b[39;00m \u001b[38;5;28;43msuper\u001b[39;49m\u001b[43m(\u001b[49m\u001b[43m)\u001b[49m\u001b[38;5;241;43m.\u001b[39;49m\u001b[43mlearn\u001b[49m\u001b[43m(\u001b[49m\n\u001b[1;32m    309\u001b[0m \u001b[43m        \u001b[49m\u001b[43mtotal_timesteps\u001b[49m\u001b[38;5;241;43m=\u001b[39;49m\u001b[43mtotal_timesteps\u001b[49m\u001b[43m,\u001b[49m\n\u001b[1;32m    310\u001b[0m \u001b[43m        \u001b[49m\u001b[43mcallback\u001b[49m\u001b[38;5;241;43m=\u001b[39;49m\u001b[43mcallback\u001b[49m\u001b[43m,\u001b[49m\n\u001b[1;32m    311\u001b[0m \u001b[43m        \u001b[49m\u001b[43mlog_interval\u001b[49m\u001b[38;5;241;43m=\u001b[39;49m\u001b[43mlog_interval\u001b[49m\u001b[43m,\u001b[49m\n\u001b[1;32m    312\u001b[0m \u001b[43m        \u001b[49m\u001b[43mtb_log_name\u001b[49m\u001b[38;5;241;43m=\u001b[39;49m\u001b[43mtb_log_name\u001b[49m\u001b[43m,\u001b[49m\n\u001b[1;32m    313\u001b[0m \u001b[43m        \u001b[49m\u001b[43mreset_num_timesteps\u001b[49m\u001b[38;5;241;43m=\u001b[39;49m\u001b[43mreset_num_timesteps\u001b[49m\u001b[43m,\u001b[49m\n\u001b[1;32m    314\u001b[0m \u001b[43m        \u001b[49m\u001b[43mprogress_bar\u001b[49m\u001b[38;5;241;43m=\u001b[39;49m\u001b[43mprogress_bar\u001b[49m\u001b[43m,\u001b[49m\n\u001b[1;32m    315\u001b[0m \u001b[43m    \u001b[49m\u001b[43m)\u001b[49m\n",
      "File \u001b[0;32m~/miniconda3/envs/bo-drl-2hp-env/lib/python3.10/site-packages/stable_baselines3/common/on_policy_algorithm.py:259\u001b[0m, in \u001b[0;36mOnPolicyAlgorithm.learn\u001b[0;34m(self, total_timesteps, callback, log_interval, tb_log_name, reset_num_timesteps, progress_bar)\u001b[0m\n\u001b[1;32m    256\u001b[0m \u001b[38;5;28;01massert\u001b[39;00m \u001b[38;5;28mself\u001b[39m\u001b[38;5;241m.\u001b[39menv \u001b[38;5;129;01mis\u001b[39;00m \u001b[38;5;129;01mnot\u001b[39;00m \u001b[38;5;28;01mNone\u001b[39;00m\n\u001b[1;32m    258\u001b[0m \u001b[38;5;28;01mwhile\u001b[39;00m \u001b[38;5;28mself\u001b[39m\u001b[38;5;241m.\u001b[39mnum_timesteps \u001b[38;5;241m<\u001b[39m total_timesteps:\n\u001b[0;32m--> 259\u001b[0m     continue_training \u001b[38;5;241m=\u001b[39m \u001b[38;5;28;43mself\u001b[39;49m\u001b[38;5;241;43m.\u001b[39;49m\u001b[43mcollect_rollouts\u001b[49m\u001b[43m(\u001b[49m\u001b[38;5;28;43mself\u001b[39;49m\u001b[38;5;241;43m.\u001b[39;49m\u001b[43menv\u001b[49m\u001b[43m,\u001b[49m\u001b[43m \u001b[49m\u001b[43mcallback\u001b[49m\u001b[43m,\u001b[49m\u001b[43m \u001b[49m\u001b[38;5;28;43mself\u001b[39;49m\u001b[38;5;241;43m.\u001b[39;49m\u001b[43mrollout_buffer\u001b[49m\u001b[43m,\u001b[49m\u001b[43m \u001b[49m\u001b[43mn_rollout_steps\u001b[49m\u001b[38;5;241;43m=\u001b[39;49m\u001b[38;5;28;43mself\u001b[39;49m\u001b[38;5;241;43m.\u001b[39;49m\u001b[43mn_steps\u001b[49m\u001b[43m)\u001b[49m\n\u001b[1;32m    261\u001b[0m     \u001b[38;5;28;01mif\u001b[39;00m continue_training \u001b[38;5;129;01mis\u001b[39;00m \u001b[38;5;28;01mFalse\u001b[39;00m:\n\u001b[1;32m    262\u001b[0m         \u001b[38;5;28;01mbreak\u001b[39;00m\n",
      "File \u001b[0;32m~/miniconda3/envs/bo-drl-2hp-env/lib/python3.10/site-packages/stable_baselines3/common/on_policy_algorithm.py:169\u001b[0m, in \u001b[0;36mOnPolicyAlgorithm.collect_rollouts\u001b[0;34m(self, env, callback, rollout_buffer, n_rollout_steps)\u001b[0m\n\u001b[1;32m    166\u001b[0m \u001b[38;5;28;01mwith\u001b[39;00m th\u001b[38;5;241m.\u001b[39mno_grad():\n\u001b[1;32m    167\u001b[0m     \u001b[38;5;66;03m# Convert to pytorch tensor or to TensorDict\u001b[39;00m\n\u001b[1;32m    168\u001b[0m     obs_tensor \u001b[38;5;241m=\u001b[39m obs_as_tensor(\u001b[38;5;28mself\u001b[39m\u001b[38;5;241m.\u001b[39m_last_obs, \u001b[38;5;28mself\u001b[39m\u001b[38;5;241m.\u001b[39mdevice)\n\u001b[0;32m--> 169\u001b[0m     actions, values, log_probs \u001b[38;5;241m=\u001b[39m \u001b[38;5;28;43mself\u001b[39;49m\u001b[38;5;241;43m.\u001b[39;49m\u001b[43mpolicy\u001b[49m\u001b[43m(\u001b[49m\u001b[43mobs_tensor\u001b[49m\u001b[43m)\u001b[49m\n\u001b[1;32m    170\u001b[0m actions \u001b[38;5;241m=\u001b[39m actions\u001b[38;5;241m.\u001b[39mcpu()\u001b[38;5;241m.\u001b[39mnumpy()\n\u001b[1;32m    172\u001b[0m \u001b[38;5;66;03m# Rescale and perform action\u001b[39;00m\n",
      "File \u001b[0;32m~/miniconda3/envs/bo-drl-2hp-env/lib/python3.10/site-packages/torch/nn/modules/module.py:1501\u001b[0m, in \u001b[0;36mModule._call_impl\u001b[0;34m(self, *args, **kwargs)\u001b[0m\n\u001b[1;32m   1496\u001b[0m \u001b[38;5;66;03m# If we don't have any hooks, we want to skip the rest of the logic in\u001b[39;00m\n\u001b[1;32m   1497\u001b[0m \u001b[38;5;66;03m# this function, and just call forward.\u001b[39;00m\n\u001b[1;32m   1498\u001b[0m \u001b[38;5;28;01mif\u001b[39;00m \u001b[38;5;129;01mnot\u001b[39;00m (\u001b[38;5;28mself\u001b[39m\u001b[38;5;241m.\u001b[39m_backward_hooks \u001b[38;5;129;01mor\u001b[39;00m \u001b[38;5;28mself\u001b[39m\u001b[38;5;241m.\u001b[39m_backward_pre_hooks \u001b[38;5;129;01mor\u001b[39;00m \u001b[38;5;28mself\u001b[39m\u001b[38;5;241m.\u001b[39m_forward_hooks \u001b[38;5;129;01mor\u001b[39;00m \u001b[38;5;28mself\u001b[39m\u001b[38;5;241m.\u001b[39m_forward_pre_hooks\n\u001b[1;32m   1499\u001b[0m         \u001b[38;5;129;01mor\u001b[39;00m _global_backward_pre_hooks \u001b[38;5;129;01mor\u001b[39;00m _global_backward_hooks\n\u001b[1;32m   1500\u001b[0m         \u001b[38;5;129;01mor\u001b[39;00m _global_forward_hooks \u001b[38;5;129;01mor\u001b[39;00m _global_forward_pre_hooks):\n\u001b[0;32m-> 1501\u001b[0m     \u001b[38;5;28;01mreturn\u001b[39;00m \u001b[43mforward_call\u001b[49m\u001b[43m(\u001b[49m\u001b[38;5;241;43m*\u001b[39;49m\u001b[43margs\u001b[49m\u001b[43m,\u001b[49m\u001b[43m \u001b[49m\u001b[38;5;241;43m*\u001b[39;49m\u001b[38;5;241;43m*\u001b[39;49m\u001b[43mkwargs\u001b[49m\u001b[43m)\u001b[49m\n\u001b[1;32m   1502\u001b[0m \u001b[38;5;66;03m# Do not call functions when jit is used\u001b[39;00m\n\u001b[1;32m   1503\u001b[0m full_backward_hooks, non_full_backward_hooks \u001b[38;5;241m=\u001b[39m [], []\n",
      "File \u001b[0;32m~/miniconda3/envs/bo-drl-2hp-env/lib/python3.10/site-packages/stable_baselines3/common/policies.py:619\u001b[0m, in \u001b[0;36mActorCriticPolicy.forward\u001b[0;34m(self, obs, deterministic)\u001b[0m\n\u001b[1;32m    617\u001b[0m features \u001b[38;5;241m=\u001b[39m \u001b[38;5;28mself\u001b[39m\u001b[38;5;241m.\u001b[39mextract_features(obs)\n\u001b[1;32m    618\u001b[0m \u001b[38;5;28;01mif\u001b[39;00m \u001b[38;5;28mself\u001b[39m\u001b[38;5;241m.\u001b[39mshare_features_extractor:\n\u001b[0;32m--> 619\u001b[0m     latent_pi, latent_vf \u001b[38;5;241m=\u001b[39m \u001b[38;5;28;43mself\u001b[39;49m\u001b[38;5;241;43m.\u001b[39;49m\u001b[43mmlp_extractor\u001b[49m\u001b[43m(\u001b[49m\u001b[43mfeatures\u001b[49m\u001b[43m)\u001b[49m\n\u001b[1;32m    620\u001b[0m \u001b[38;5;28;01melse\u001b[39;00m:\n\u001b[1;32m    621\u001b[0m     pi_features, vf_features \u001b[38;5;241m=\u001b[39m features\n",
      "File \u001b[0;32m~/miniconda3/envs/bo-drl-2hp-env/lib/python3.10/site-packages/torch/nn/modules/module.py:1501\u001b[0m, in \u001b[0;36mModule._call_impl\u001b[0;34m(self, *args, **kwargs)\u001b[0m\n\u001b[1;32m   1496\u001b[0m \u001b[38;5;66;03m# If we don't have any hooks, we want to skip the rest of the logic in\u001b[39;00m\n\u001b[1;32m   1497\u001b[0m \u001b[38;5;66;03m# this function, and just call forward.\u001b[39;00m\n\u001b[1;32m   1498\u001b[0m \u001b[38;5;28;01mif\u001b[39;00m \u001b[38;5;129;01mnot\u001b[39;00m (\u001b[38;5;28mself\u001b[39m\u001b[38;5;241m.\u001b[39m_backward_hooks \u001b[38;5;129;01mor\u001b[39;00m \u001b[38;5;28mself\u001b[39m\u001b[38;5;241m.\u001b[39m_backward_pre_hooks \u001b[38;5;129;01mor\u001b[39;00m \u001b[38;5;28mself\u001b[39m\u001b[38;5;241m.\u001b[39m_forward_hooks \u001b[38;5;129;01mor\u001b[39;00m \u001b[38;5;28mself\u001b[39m\u001b[38;5;241m.\u001b[39m_forward_pre_hooks\n\u001b[1;32m   1499\u001b[0m         \u001b[38;5;129;01mor\u001b[39;00m _global_backward_pre_hooks \u001b[38;5;129;01mor\u001b[39;00m _global_backward_hooks\n\u001b[1;32m   1500\u001b[0m         \u001b[38;5;129;01mor\u001b[39;00m _global_forward_hooks \u001b[38;5;129;01mor\u001b[39;00m _global_forward_pre_hooks):\n\u001b[0;32m-> 1501\u001b[0m     \u001b[38;5;28;01mreturn\u001b[39;00m \u001b[43mforward_call\u001b[49m\u001b[43m(\u001b[49m\u001b[38;5;241;43m*\u001b[39;49m\u001b[43margs\u001b[49m\u001b[43m,\u001b[49m\u001b[43m \u001b[49m\u001b[38;5;241;43m*\u001b[39;49m\u001b[38;5;241;43m*\u001b[39;49m\u001b[43mkwargs\u001b[49m\u001b[43m)\u001b[49m\n\u001b[1;32m   1502\u001b[0m \u001b[38;5;66;03m# Do not call functions when jit is used\u001b[39;00m\n\u001b[1;32m   1503\u001b[0m full_backward_hooks, non_full_backward_hooks \u001b[38;5;241m=\u001b[39m [], []\n",
      "File \u001b[0;32m~/miniconda3/envs/bo-drl-2hp-env/lib/python3.10/site-packages/stable_baselines3/common/torch_layers.py:222\u001b[0m, in \u001b[0;36mMlpExtractor.forward\u001b[0;34m(self, features)\u001b[0m\n\u001b[1;32m    217\u001b[0m \u001b[38;5;28;01mdef\u001b[39;00m \u001b[38;5;21mforward\u001b[39m(\u001b[38;5;28mself\u001b[39m, features: th\u001b[38;5;241m.\u001b[39mTensor) \u001b[38;5;241m-\u001b[39m\u001b[38;5;241m>\u001b[39m Tuple[th\u001b[38;5;241m.\u001b[39mTensor, th\u001b[38;5;241m.\u001b[39mTensor]:\n\u001b[1;32m    218\u001b[0m \u001b[38;5;250m    \u001b[39m\u001b[38;5;124;03m\"\"\"\u001b[39;00m\n\u001b[1;32m    219\u001b[0m \u001b[38;5;124;03m    :return: latent_policy, latent_value of the specified network.\u001b[39;00m\n\u001b[1;32m    220\u001b[0m \u001b[38;5;124;03m        If all layers are shared, then ``latent_policy == latent_value``\u001b[39;00m\n\u001b[1;32m    221\u001b[0m \u001b[38;5;124;03m    \"\"\"\u001b[39;00m\n\u001b[0;32m--> 222\u001b[0m     \u001b[38;5;28;01mreturn\u001b[39;00m \u001b[38;5;28;43mself\u001b[39;49m\u001b[38;5;241;43m.\u001b[39;49m\u001b[43mforward_actor\u001b[49m\u001b[43m(\u001b[49m\u001b[43mfeatures\u001b[49m\u001b[43m)\u001b[49m, \u001b[38;5;28mself\u001b[39m\u001b[38;5;241m.\u001b[39mforward_critic(features)\n",
      "File \u001b[0;32m~/miniconda3/envs/bo-drl-2hp-env/lib/python3.10/site-packages/stable_baselines3/common/torch_layers.py:225\u001b[0m, in \u001b[0;36mMlpExtractor.forward_actor\u001b[0;34m(self, features)\u001b[0m\n\u001b[1;32m    224\u001b[0m \u001b[38;5;28;01mdef\u001b[39;00m \u001b[38;5;21mforward_actor\u001b[39m(\u001b[38;5;28mself\u001b[39m, features: th\u001b[38;5;241m.\u001b[39mTensor) \u001b[38;5;241m-\u001b[39m\u001b[38;5;241m>\u001b[39m th\u001b[38;5;241m.\u001b[39mTensor:\n\u001b[0;32m--> 225\u001b[0m     \u001b[38;5;28;01mreturn\u001b[39;00m \u001b[38;5;28;43mself\u001b[39;49m\u001b[38;5;241;43m.\u001b[39;49m\u001b[43mpolicy_net\u001b[49m\u001b[43m(\u001b[49m\u001b[43mfeatures\u001b[49m\u001b[43m)\u001b[49m\n",
      "File \u001b[0;32m~/miniconda3/envs/bo-drl-2hp-env/lib/python3.10/site-packages/torch/nn/modules/module.py:1501\u001b[0m, in \u001b[0;36mModule._call_impl\u001b[0;34m(self, *args, **kwargs)\u001b[0m\n\u001b[1;32m   1496\u001b[0m \u001b[38;5;66;03m# If we don't have any hooks, we want to skip the rest of the logic in\u001b[39;00m\n\u001b[1;32m   1497\u001b[0m \u001b[38;5;66;03m# this function, and just call forward.\u001b[39;00m\n\u001b[1;32m   1498\u001b[0m \u001b[38;5;28;01mif\u001b[39;00m \u001b[38;5;129;01mnot\u001b[39;00m (\u001b[38;5;28mself\u001b[39m\u001b[38;5;241m.\u001b[39m_backward_hooks \u001b[38;5;129;01mor\u001b[39;00m \u001b[38;5;28mself\u001b[39m\u001b[38;5;241m.\u001b[39m_backward_pre_hooks \u001b[38;5;129;01mor\u001b[39;00m \u001b[38;5;28mself\u001b[39m\u001b[38;5;241m.\u001b[39m_forward_hooks \u001b[38;5;129;01mor\u001b[39;00m \u001b[38;5;28mself\u001b[39m\u001b[38;5;241m.\u001b[39m_forward_pre_hooks\n\u001b[1;32m   1499\u001b[0m         \u001b[38;5;129;01mor\u001b[39;00m _global_backward_pre_hooks \u001b[38;5;129;01mor\u001b[39;00m _global_backward_hooks\n\u001b[1;32m   1500\u001b[0m         \u001b[38;5;129;01mor\u001b[39;00m _global_forward_hooks \u001b[38;5;129;01mor\u001b[39;00m _global_forward_pre_hooks):\n\u001b[0;32m-> 1501\u001b[0m     \u001b[38;5;28;01mreturn\u001b[39;00m \u001b[43mforward_call\u001b[49m\u001b[43m(\u001b[49m\u001b[38;5;241;43m*\u001b[39;49m\u001b[43margs\u001b[49m\u001b[43m,\u001b[49m\u001b[43m \u001b[49m\u001b[38;5;241;43m*\u001b[39;49m\u001b[38;5;241;43m*\u001b[39;49m\u001b[43mkwargs\u001b[49m\u001b[43m)\u001b[49m\n\u001b[1;32m   1502\u001b[0m \u001b[38;5;66;03m# Do not call functions when jit is used\u001b[39;00m\n\u001b[1;32m   1503\u001b[0m full_backward_hooks, non_full_backward_hooks \u001b[38;5;241m=\u001b[39m [], []\n",
      "File \u001b[0;32m~/miniconda3/envs/bo-drl-2hp-env/lib/python3.10/site-packages/torch/nn/modules/container.py:217\u001b[0m, in \u001b[0;36mSequential.forward\u001b[0;34m(self, input)\u001b[0m\n\u001b[1;32m    215\u001b[0m \u001b[38;5;28;01mdef\u001b[39;00m \u001b[38;5;21mforward\u001b[39m(\u001b[38;5;28mself\u001b[39m, \u001b[38;5;28minput\u001b[39m):\n\u001b[1;32m    216\u001b[0m     \u001b[38;5;28;01mfor\u001b[39;00m module \u001b[38;5;129;01min\u001b[39;00m \u001b[38;5;28mself\u001b[39m:\n\u001b[0;32m--> 217\u001b[0m         \u001b[38;5;28minput\u001b[39m \u001b[38;5;241m=\u001b[39m \u001b[43mmodule\u001b[49m\u001b[43m(\u001b[49m\u001b[38;5;28;43minput\u001b[39;49m\u001b[43m)\u001b[49m\n\u001b[1;32m    218\u001b[0m     \u001b[38;5;28;01mreturn\u001b[39;00m \u001b[38;5;28minput\u001b[39m\n",
      "File \u001b[0;32m~/miniconda3/envs/bo-drl-2hp-env/lib/python3.10/site-packages/torch/nn/modules/module.py:1495\u001b[0m, in \u001b[0;36mModule._call_impl\u001b[0;34m(self, *args, **kwargs)\u001b[0m\n\u001b[1;32m   1494\u001b[0m \u001b[38;5;28;01mdef\u001b[39;00m \u001b[38;5;21m_call_impl\u001b[39m(\u001b[38;5;28mself\u001b[39m, \u001b[38;5;241m*\u001b[39margs, \u001b[38;5;241m*\u001b[39m\u001b[38;5;241m*\u001b[39mkwargs):\n\u001b[0;32m-> 1495\u001b[0m     forward_call \u001b[38;5;241m=\u001b[39m (\u001b[38;5;28mself\u001b[39m\u001b[38;5;241m.\u001b[39m_slow_forward \u001b[38;5;28;01mif\u001b[39;00m \u001b[43mtorch\u001b[49m\u001b[38;5;241;43m.\u001b[39;49m\u001b[43m_C\u001b[49m\u001b[38;5;241;43m.\u001b[39;49m\u001b[43m_get_tracing_state\u001b[49m\u001b[43m(\u001b[49m\u001b[43m)\u001b[49m \u001b[38;5;28;01melse\u001b[39;00m \u001b[38;5;28mself\u001b[39m\u001b[38;5;241m.\u001b[39mforward)\n\u001b[1;32m   1496\u001b[0m     \u001b[38;5;66;03m# If we don't have any hooks, we want to skip the rest of the logic in\u001b[39;00m\n\u001b[1;32m   1497\u001b[0m     \u001b[38;5;66;03m# this function, and just call forward.\u001b[39;00m\n\u001b[1;32m   1498\u001b[0m     \u001b[38;5;28;01mif\u001b[39;00m \u001b[38;5;129;01mnot\u001b[39;00m (\u001b[38;5;28mself\u001b[39m\u001b[38;5;241m.\u001b[39m_backward_hooks \u001b[38;5;129;01mor\u001b[39;00m \u001b[38;5;28mself\u001b[39m\u001b[38;5;241m.\u001b[39m_backward_pre_hooks \u001b[38;5;129;01mor\u001b[39;00m \u001b[38;5;28mself\u001b[39m\u001b[38;5;241m.\u001b[39m_forward_hooks \u001b[38;5;129;01mor\u001b[39;00m \u001b[38;5;28mself\u001b[39m\u001b[38;5;241m.\u001b[39m_forward_pre_hooks\n\u001b[1;32m   1499\u001b[0m             \u001b[38;5;129;01mor\u001b[39;00m _global_backward_pre_hooks \u001b[38;5;129;01mor\u001b[39;00m _global_backward_hooks\n\u001b[1;32m   1500\u001b[0m             \u001b[38;5;129;01mor\u001b[39;00m _global_forward_hooks \u001b[38;5;129;01mor\u001b[39;00m _global_forward_pre_hooks):\n",
      "\u001b[0;31mKeyboardInterrupt\u001b[0m: "
     ]
    }
   ],
   "source": [
    "if continue_from_checkpoint:\n",
    "  init_experiment = last_bo_experiment\n",
    "  init_iteration = last_bo_iteration\n",
    "else:\n",
    "  init_experiment = 0\n",
    "  init_iteration = 1\n",
    "  bo_done = False\n",
    "\n",
    "if not bo_done:\n",
    "  for e in range(init_experiment, n_experiments):\n",
    "    print(f\"EXPERIMENT {e}\")\n",
    "    if not (continue_from_checkpoint and init_experiment == e):\n",
    "      # Sample initial hyperparameter values and evaluate the models obtained with them\n",
    "      init_x, init_y, best_init_y = generate_initial_data(bounds_tensor,\n",
    "                                                          1)\n",
    "\n",
    "    # We normalize the bounds of the hyperparameters as BOTorch assumes this\n",
    "    normalized_bounds = torch.tensor([np.zeros(len(bounds_tensor[0])), np.ones(len(bounds_tensor[0]))])\n",
    "\n",
    "    # Normalize the hyperparameter as BOTorch assumes this\n",
    "    init_x_normalized = normalize(init_x,\n",
    "                                  bounds=bounds_tensor)\n",
    "\n",
    "    # Standardize the objective as BOTorch assumes this\n",
    "    init_y_standardized = standardize(init_y)\n",
    "\n",
    "    # Obtain the best result among the initial random experiments\n",
    "    best_init_y_standardized = init_y_standardized.max().item()\n",
    "\n",
    "    best_observed_result_bo = best_init_y\n",
    "    best_observed_lr_bo, best_observed_gamma_bo = get_hyp_values(init_x[0])\n",
    "\n",
    "    if not (continue_from_checkpoint and init_experiment == e):\n",
    "      experiment_df = update_experiment_history(bo_method, \n",
    "                                                e, \n",
    "                                                0,\n",
    "                                                best_observed_lr_bo, # The learning rate selected for this iteration\n",
    "                                                best_observed_gamma_bo, # The gamma selected for this iteration\n",
    "                                                best_observed_result_bo, # The reward lower bound of the model\n",
    "                                                best_observed_lr_bo, # The best learning rate\n",
    "                                                best_observed_gamma_bo, # The best gamma\n",
    "                                                best_observed_result_bo, # The reward lower bound\n",
    "                                                experiment_df,\n",
    "                                                experiment_name)\n",
    "      \n",
    "      experiment_configurations[rs_method,e,0,0] = best_observed_lr_bo\n",
    "      experiment_configurations[rs_method,e,0,1] = best_observed_gamma_bo\n",
    "      experiment_results[rs_method,e,0] = best_observed_result_bo\n",
    "\n",
    "    for i in range(init_iteration, n_iterations+1):\n",
    "      # Get the next points given our actual queries\n",
    "      normalized_new_candidates = get_next_points(init_x_normalized,\n",
    "                                                  init_y_standardized, \n",
    "                                                  best_init_y_standardized, \n",
    "                                                  normalized_bounds,\n",
    "                                                  n_points=1)\n",
    "    \n",
    "      # Unnormalize the candidate hyperparameter value\n",
    "      new_candidates = unnormalize(normalized_new_candidates,\n",
    "                                   bounds=bounds_tensor)\n",
    "      \n",
    "      # Compute the performance of the model\n",
    "      new_results = torch.tensor([[target_function(new_candidates[0])]])\n",
    "\n",
    "      # Update our hyperparameters and rewards history\n",
    "      init_x = torch.cat([init_x, new_candidates])\n",
    "      init_y = torch.cat([init_y, new_results])\n",
    "\n",
    "      # Normalize our updated hyperparameters and rewards history\n",
    "      init_x_normalized = normalize(init_x, bounds=bounds_tensor)\n",
    "      init_y_standardized = standardize(init_y)\n",
    "\n",
    "      # Update the best reward\n",
    "      best_init_y = init_y.max().item()\n",
    "      best_init_y_standardized = init_y_standardized.max().item()\n",
    "      \n",
    "      # Show iteration info\n",
    "      \n",
    "      print(f\"Number of iteration: {i}\")\n",
    "      print(f\"  - Unnormalized learning rate: {new_candidates[0][0].item()}\")\n",
    "      print(f\"  - Normalized learning rate: {normalized_new_candidates[0][0].item()}\")\n",
    "      print(f\"  - Unnormalized gamma: {new_candidates[0][1].item()}\")\n",
    "      print(f\"  - Normalized gamma: {normalized_new_candidates[0][1].item()}\")\n",
    "      print(f\"  - Unstandardized lower reward bound: {new_results.item()}\")\n",
    "      print(f\"  - Standardized lower reward bound: {init_y_standardized[-1].item()}\")\n",
    "      print(f\"Best point performs this way: {best_init_y}\")\n",
    "\n",
    "      candidate_lr_bo, candidate_gamma_bo = get_hyp_values(new_candidates[0])\n",
    "      \n",
    "      if best_observed_result_bo < new_results[0][0].item():\n",
    "        best_observed_result_bo = new_results[0][0].item()\n",
    "        best_observed_lr_bo, best_observed_gamma_bo = get_hyp_values(new_candidates[0])\n",
    "\n",
    "      experiment_df = update_experiment_history(bo_method, \n",
    "                                                e, \n",
    "                                                i,\n",
    "                                                candidate_lr_bo, # The lr selected for this iteration\n",
    "                                                candidate_gamma_bo, # The gamma selected for this iteration\n",
    "                                                new_results[0][0].item(), # The reward lower bound of the model\n",
    "                                                best_observed_lr_bo, # The best learning rate\n",
    "                                                best_observed_gamma_bo, # The best gamma\n",
    "                                                best_observed_result_bo, # The reward lower bound\n",
    "                                                experiment_df,\n",
    "                                                experiment_name)\n",
    "\n",
    "      experiment_configurations[bo_method,e,i,0] = best_observed_lr_bo\n",
    "      experiment_configurations[bo_method,e,i,1] = best_observed_gamma_bo\n",
    "      experiment_results[bo_method,e,i] = best_observed_result_bo\n",
    "      print('----------------------')\n",
    "    init_iteration = 1"
   ]
  },
  {
   "cell_type": "markdown",
   "metadata": {
    "id": "3kbrnek5JW9f"
   },
   "source": [
    "Now we perform a random search"
   ]
  },
  {
   "cell_type": "code",
   "execution_count": null,
   "metadata": {
    "id": "8vpuRYDRJWmf"
   },
   "outputs": [
    {
     "name": "stderr",
     "output_type": "stream",
     "text": [
      "/home/daniel/miniconda3/envs/bo-drl-2hp-env/lib/python3.10/site-packages/stable_baselines3/common/evaluation.py:67: UserWarning: Evaluation environment is not wrapped with a ``Monitor`` wrapper. This may result in reporting modified episode lengths and rewards, if other wrappers happen to modify these. Consider wrapping environment first with ``Monitor`` wrapper.\n",
      "  warnings.warn(\n"
     ]
    },
    {
     "name": "stdout",
     "output_type": "stream",
     "text": [
      "mean_reward=-121.50 +/- 41.134094303419644\n",
      "mean_reward=-1023.04 +/- 832.394495245156\n",
      "mean_reward=-763.74 +/- 400.67306023343366\n",
      "mean_reward=-132.80 +/- 25.2364619153266\n",
      "mean_reward=-134.72 +/- 25.99154056287576\n",
      "mean_reward=-558.10 +/- 167.76180002787314\n",
      "mean_reward=-132.59 +/- 41.90012505945139\n"
     ]
    }
   ],
   "source": [
    "if continue_from_checkpoint:\n",
    "  init_experiment = last_rs_experiment\n",
    "  init_iteration = last_rs_iteration\n",
    "else:\n",
    "  init_experiment = 0\n",
    "  init_iteration = 1\n",
    "\n",
    "for e in range(init_experiment, n_experiments):\n",
    "  if not (continue_from_checkpoint and init_experiment == e) or (init_experiment==0 and init_iteration==1):\n",
    "    # Initiate with a random value\n",
    "    random_value = torch.rand(1, len(bounds_tensor[0])) * (bounds_tensor[1] - bounds_tensor[0]) + bounds_tensor[0]\n",
    "    best_observed_result_rs = target_function(random_value[0])\n",
    "    best_observed_lr_rs, best_observed_gamma_rs = get_hyp_values(random_value[0])\n",
    "    # Update our experiments histories\n",
    "    experiment_df = update_experiment_history(rs_method, \n",
    "                                              e, \n",
    "                                              0,\n",
    "                                              best_observed_lr_rs, # The learning rate value selected for this iteration\n",
    "                                              best_observed_gamma_rs, # The gamma value selected for this iteration\n",
    "                                              best_observed_result_rs, # The reward lower bound of the model\n",
    "                                              best_observed_lr_rs, # The best learning rate\n",
    "                                              best_observed_gamma_rs, # The best gamma\n",
    "                                              best_observed_result_rs, # The reward lower bound\n",
    "                                              experiment_df,\n",
    "                                              experiment_name)\n",
    "  \n",
    "  # Iterate with random search\n",
    "  for i in range(init_iteration, n_iterations+1):\n",
    "    # Get a new random value for the hyperparameter\n",
    "    random_value = torch.rand(1, len(bounds_tensor[0])) * (bounds_tensor[1] - bounds_tensor[0]) + bounds_tensor[0]\n",
    "\n",
    "    # Evaluate the model with that hyperparameter value\n",
    "    rs_obj_fun_result = target_function(random_value[0])\n",
    "\n",
    "    candidate_lr_rs, candidate_gamma_rs = get_hyp_values(random_value[0])\n",
    "    # Update best reward and candidate found if necessary\n",
    "    if best_observed_result_rs < rs_obj_fun_result:\n",
    "      best_observed_result_rs = rs_obj_fun_result\n",
    "      best_observed_lr_rs, best_observed_gamma_rs = get_hyp_values(random_value[0])\n",
    "    \n",
    "    # Update our experiments histories\n",
    "    experiment_df = update_experiment_history(rs_method, \n",
    "                                              e, \n",
    "                                              i,\n",
    "                                              candidate_lr_rs, # The learning rate value selected for this iteration\n",
    "                                              candidate_gamma_rs, # The gamma value selected for this iteration\n",
    "                                              best_observed_result_rs, # The reward lower bound of the model\n",
    "                                              best_observed_lr_rs, # The best learning rate\n",
    "                                              best_observed_gamma_rs, # The best gamma\n",
    "                                              best_observed_result_rs, # The reward lower bound\n",
    "                                              experiment_df,\n",
    "                                              experiment_name)\n",
    "    \n",
    "    experiment_configurations[rs_method,e,i,0] = best_observed_lr_rs\n",
    "    experiment_configurations[rs_method,e,i,1] = best_observed_gamma_rs\n",
    "    experiment_results[rs_method,e,i] = best_observed_result_rs\n",
    "\n",
    "  init_iteration = 1"
   ]
  },
  {
   "cell_type": "markdown",
   "metadata": {
    "id": "ukMdAAapSR2c"
   },
   "source": [
    "# Step 7: Compare the results"
   ]
  },
  {
   "cell_type": "markdown",
   "metadata": {
    "id": "BeN8EWoOSVxC"
   },
   "source": [
    "First we give the recommendation as the best observed result"
   ]
  },
  {
   "cell_type": "code",
   "execution_count": null,
   "metadata": {
    "id": "nlf2cyT-SZf2"
   },
   "outputs": [],
   "source": [
    "best_observed_result = np.max(experiment_results)\n",
    "index_set = np.where(experiment_results==best_observed_result)\n",
    "print(\"The best observed result is: \" + str(best_observed_result))\n",
    "print(\"The best observed result belong to the : \" + str(index_set[0][0]) + \" method. Its value is \" + str(experiment_configurations[index_set][0]))"
   ]
  },
  {
   "cell_type": "markdown",
   "metadata": {
    "id": "3jZ5oFK6Sf3Q"
   },
   "source": [
    "And now we plot the results to compare both methods"
   ]
  },
  {
   "cell_type": "code",
   "execution_count": null,
   "metadata": {
    "id": "lgo_wr7VSj7k"
   },
   "outputs": [],
   "source": [
    "x = np.linspace(1, n_iterations, n_iterations).astype(int)\n",
    "mean_bo = np.mean(experiment_results[0,:,:], axis=0)\n",
    "mean_rs = np.mean(experiment_results[1,:,:], axis=0)\n",
    "std_bo = np.std(experiment_results[0,:,:], axis=0) * 0.25\n",
    "std_rs = np.std(experiment_results[1,:,:], axis=0) * 0.25\n",
    "bo_ub_results = go.Scatter(x=x, y=mean_bo + std_bo, mode='lines', name=\"\", line_color=\"green\", line_width=0.1)\n",
    "bo_results = go.Scatter(x=x, y=mean_bo, mode='lines', fill='tonexty', line_color=\"green\", name=\"Bayesian Optimization\")\n",
    "bo_lb_results = go.Scatter(x=x, y=mean_bo - std_bo, mode='lines', fill='tonexty', name=\"\", line_color=\"green\", line_width=0.1)\n",
    "\n",
    "rs_ub_results = go.Scatter(x=x, y=mean_rs + std_rs, mode='lines', name=\"\", line_color=\"red\", line_width=0.1)\n",
    "rs_results = go.Scatter(x=x, y=mean_rs, mode='lines', fill='tonexty', line_color=\"red\", name=\"Random Search\")\n",
    "rs_lb_results = go.Scatter(x=x, y=mean_rs - std_rs, mode='lines', fill='tonexty', name=\"\", line_color=\"red\", line_width=0.1)\n",
    "  \n",
    "fig = go.Figure()\n",
    "fig.add_trace(bo_ub_results)\n",
    "fig.add_trace(bo_results)\n",
    "fig.add_trace(bo_lb_results)\n",
    "fig.add_trace(rs_ub_results)\n",
    "fig.add_trace(rs_results)\n",
    "fig.add_trace(rs_lb_results)\n",
    "fig.update_layout(title=\"Performance comparison between BO and RS\", xaxis_title=\"Iterations\", yaxis_title=\"Reward lower bound\")\n",
    "fig.show()"
   ]
  }
 ],
 "metadata": {
  "accelerator": "GPU",
  "colab": {
   "provenance": []
  },
  "gpuClass": "standard",
  "kernelspec": {
   "display_name": "bo-drl-2hp-env",
   "language": "python",
   "name": "bo-drl-2hp-env"
  },
  "language_info": {
   "codemirror_mode": {
    "name": "ipython",
    "version": 3
   },
   "file_extension": ".py",
   "mimetype": "text/x-python",
   "name": "python",
   "nbconvert_exporter": "python",
   "pygments_lexer": "ipython3",
   "version": "3.10.9"
  }
 },
 "nbformat": 4,
 "nbformat_minor": 1
}
